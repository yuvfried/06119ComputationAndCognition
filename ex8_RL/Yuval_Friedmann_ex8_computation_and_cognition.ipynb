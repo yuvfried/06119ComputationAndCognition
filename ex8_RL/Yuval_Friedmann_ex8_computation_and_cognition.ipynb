{
  "nbformat": 4,
  "nbformat_minor": 0,
  "metadata": {
    "colab": {
      "name": "ex8_computation_and_cognition.ipynb",
      "provenance": [],
      "collapsed_sections": []
    },
    "kernelspec": {
      "name": "python3",
      "display_name": "Python 3"
    }
  },
  "cells": [
    {
      "cell_type": "code",
      "metadata": {
        "id": "5jA5OF2UqljL",
        "colab_type": "code",
        "colab": {
          "base_uri": "https://localhost:8080/",
          "height": 55
        },
        "outputId": "7bd09d39-da6c-479c-ce17-912021da2f92"
      },
      "source": [
        "from google.colab import drive\n",
        "drive.mount('/content/drive')"
      ],
      "execution_count": 6,
      "outputs": [
        {
          "output_type": "stream",
          "text": [
            "Drive already mounted at /content/drive; to attempt to forcibly remount, call drive.mount(\"/content/drive\", force_remount=True).\n"
          ],
          "name": "stdout"
        }
      ]
    },
    {
      "cell_type": "code",
      "metadata": {
        "id": "fUWAPj45DLUI",
        "colab_type": "code",
        "colab": {}
      },
      "source": [
        "# import time\n",
        "# import os\n",
        "# from IPython.display import clear_output # the corresponding to os.system('cls') on IPyhotn IDE\n",
        "import pandas as pd\n",
        "import numpy as np\n",
        "import matplotlib.pyplot as plt"
      ],
      "execution_count": 0,
      "outputs": []
    },
    {
      "cell_type": "markdown",
      "metadata": {
        "id": "duDVQpxwqZy9",
        "colab_type": "text"
      },
      "source": [
        "###Part A\n",
        "**Data Collection**\\\n",
        "Paramaters of Experiment:\n",
        "*   q0: 0.4 (r|y0 ~ Ber(0.4))\\\n",
        "*   q1: 0.6 (r|y1 ~ Ber(0.6))\\\n",
        "\n",
        "\n",
        "Experiment was conducted by PyCharm, as the the output's deletion methods were more comfortable there. Attached to the Moodle submission is the folder \"rl_experiment\" with a file \"experiment.py\".\n"
      ]
    },
    {
      "cell_type": "markdown",
      "metadata": {
        "id": "nqL6cIZHqO68",
        "colab_type": "text"
      },
      "source": [
        "###Part B\n",
        "**Display Results**"
      ]
    },
    {
      "cell_type": "code",
      "metadata": {
        "id": "XP4NQhCDqOsj",
        "colab_type": "code",
        "colab": {}
      },
      "source": [
        "res1 = pd.read_csv(\"/content/drive/My Drive/C&C/ex8/results_Eima.csv\", index_col=0)\n",
        "res2 = pd.read_csv(\"/content/drive/My Drive/C&C/ex8/results_Aba.csv\", index_col=0)"
      ],
      "execution_count": 0,
      "outputs": []
    },
    {
      "cell_type": "code",
      "metadata": {
        "id": "JL1gU8Bkq9NE",
        "colab_type": "code",
        "colab": {
          "base_uri": "https://localhost:8080/",
          "height": 306
        },
        "outputId": "a0ac7a68-aa38-4fd3-ac6c-803a7d0da26c"
      },
      "source": [
        "q0 = 0.6\n",
        "q1 = 0.9\n",
        "\n",
        "if q0<q1:\n",
        "  favor = 1\n",
        "else:\n",
        "  favor=0\n",
        "\n",
        "f_per1 = (res1.loc[:20,\"y\"] == favor).sum() / 20\n",
        "f_per2 = (res2.loc[:20,\"y\"] == favor).sum() / 20\n",
        "l_per1 = (res1.loc[80:,\"y\"] == favor).sum() / 20\n",
        "l_per2 = (res2.loc[80:,\"y\"] == favor).sum() / 20\n",
        "\n",
        "pd.DataFrame({\"Eima\": [f_per1,l_per1],\"Aba\": [f_per2,l_per2]},index=[\"first\",\"last\"]).plot(kind=\"bar\")\n",
        "plt.title(\"Rate of Pressing the y with an Higher Expectation\\nof Gain in the Lirst and Last 20 Pressings\")\n",
        "plt.ylabel(\"percentage\")\n",
        "plt.show()"
      ],
      "execution_count": 9,
      "outputs": [
        {
          "output_type": "display_data",
          "data": {
            "image/png": "[encoded data removed]",
            "text/plain": [
              "<Figure size 432x288 with 1 Axes>"
            ]
          },
          "metadata": {
            "tags": []
          }
        }
      ]
    },
    {
      "cell_type": "markdown",
      "metadata": {
        "id": "d5E3DaRgoPB0",
        "colab_type": "text"
      },
      "source": [
        "We can be impressed that Aba has almost no learning at all, while Eima imporved her results in her last trails."
      ]
    },
    {
      "cell_type": "markdown",
      "metadata": {
        "id": "EYhUtG4I0GlP",
        "colab_type": "text"
      },
      "source": [
        "###Part C"
      ]
    },
    {
      "cell_type": "markdown",
      "metadata": {
        "id": "P8ki_yi-0ICV",
        "colab_type": "text"
      },
      "source": [
        "####Q1"
      ]
    },
    {
      "cell_type": "code",
      "metadata": {
        "id": "vS4dqjFO0LS5",
        "colab_type": "code",
        "colab": {}
      },
      "source": [
        "# results df columns [\"y\",\"r\"]\n",
        "def reinforce_log_likelihood(res, eta, p1=0.5):\n",
        "  results = res.copy()\n",
        "  results[\"p\"] = np.nan\n",
        "  results.loc[0,\"p\"] = p1\n",
        "  for t in range(1,results.shape[0]):\n",
        "    yt, rt, pt = results.loc[t-1, [\"y\",\"r\",\"p\"]]\n",
        "    results.loc[t,\"p\"] = pt + eta*rt*pt*(1-pt)*(yt-pt)\n",
        "  return np.sum(np.log(results[\"p\"].values))\n",
        "\n",
        "\n",
        "def td_log_likelihood(res, eta, beta=2, v0=0, v1=0):\n",
        "  results = res.copy()\n",
        "  results[\"v0\"], results[\"v1\"] = np.nan, np.nan\n",
        "  results.loc[0,\"v0\"], results.loc[0,\"v1\"] = v0, v1\n",
        "  results[\"p\"] = np.nan\n",
        "  results.loc[0, \"p\"] = np.exp(beta*v1)/(np.exp(beta*v1)+np.exp(beta*v0))\n",
        "  \n",
        "  for t in range(1, results.shape[0]):\n",
        "    yt, rt, v0t, v1t = results.loc[t-1, [\"y\",\"r\",\"v0\",\"v1\"]]\n",
        "    d_0, d_1 = int(yt==0), int(yt==1) # delta(i,yt) function\n",
        "    \n",
        "    results.loc[t, \"v0\"] = v0t + eta*d_0*(rt-v0t)\n",
        "    results.loc[t, \"v1\"] = v1t + eta*d_1*(rt-v1t)\n",
        "    v0, v1 = results.loc[t, \"v0\"], results.loc[t, \"v1\"]\n",
        "    results.loc[t,\"p\"] = np.exp(beta*v1)/(np.exp(beta*v1)+np.exp(beta*v0))\n",
        "  \n",
        "  return np.sum(np.log(results[\"p\"].values))\n"
      ],
      "execution_count": 0,
      "outputs": []
    },
    {
      "cell_type": "markdown",
      "metadata": {
        "id": "zkEnGr309KId",
        "colab_type": "text"
      },
      "source": [
        "####Q2"
      ]
    },
    {
      "cell_type": "code",
      "metadata": {
        "id": "8NTp-Hd1hj6M",
        "colab_type": "code",
        "colab": {}
      },
      "source": [
        "# results df with columns [\"y\",\"r\"]\n",
        "def mle_eta_reinforce(res):\n",
        "  results=res.copy()\n",
        "  etas = np.arange(0,1.005,0.005)\n",
        "  vf = np.vectorize(lambda eta: reinforce_log_likelihood(results,eta))\n",
        "  log_likelihood = np.apply_along_axis(vf, axis=0, arr=etas)\n",
        "  return etas[np.argmax(log_likelihood)]\n",
        "\n",
        "\n",
        "def mle_eta_td(res):\n",
        "  results = res.copy()\n",
        "  etas = np.arange(0,1.005,0.005)\n",
        "  vf = np.vectorize(lambda eta: td_log_likelihood(results,eta))\n",
        "  log_likelihood = np.apply_along_axis(vf, axis=0, arr=etas)\n",
        "  return etas[np.argmax(log_likelihood)]"
      ],
      "execution_count": 0,
      "outputs": []
    },
    {
      "cell_type": "code",
      "metadata": {
        "id": "RX2K_Paji_Ld",
        "colab_type": "code",
        "colab": {}
      },
      "source": [
        "opt_eta_reinforce_Eima = mle_eta_reinforce(res1)\n",
        "opt_eta_reinforce_Aba = mle_eta_reinforce(res2)\n",
        "opt_eta_td_Eima = mle_eta_td(res1)\n",
        "opt_eta_td_Aba = mle_eta_td(res2)"
      ],
      "execution_count": 0,
      "outputs": []
    },
    {
      "cell_type": "markdown",
      "metadata": {
        "id": "ZaCZKuhDzx1U",
        "colab_type": "text"
      },
      "source": [
        "Optimal Eta"
      ]
    },
    {
      "cell_type": "code",
      "metadata": {
        "id": "MLmO-VeCn7MG",
        "colab_type": "code",
        "colab": {
          "base_uri": "https://localhost:8080/",
          "height": 109
        },
        "outputId": "f6f40915-11b3-464b-c933-4bb182589a95"
      },
      "source": [
        "opt_etas = pd.DataFrame({\"Eima\":[opt_eta_reinforce_Eima,opt_eta_td_Eima], \"Aba\":[opt_eta_reinforce_Aba,opt_eta_td_Aba]},\n",
        "             index = [\"reinforce\",\"td\"])\n",
        "opt_etas"
      ],
      "execution_count": 16,
      "outputs": [
        {
          "output_type": "execute_result",
          "data": {
            "text/html": [
              "<div>\n",
              "<style scoped>\n",
              "    .dataframe tbody tr th:only-of-type {\n",
              "        vertical-align: middle;\n",
              "    }\n",
              "\n",
              "    .dataframe tbody tr th {\n",
              "        vertical-align: top;\n",
              "    }\n",
              "\n",
              "    .dataframe thead th {\n",
              "        text-align: right;\n",
              "    }\n",
              "</style>\n",
              "<table border=\"1\" class=\"dataframe\">\n",
              "  <thead>\n",
              "    <tr style=\"text-align: right;\">\n",
              "      <th></th>\n",
              "      <th>Eima</th>\n",
              "      <th>Aba</th>\n",
              "    </tr>\n",
              "  </thead>\n",
              "  <tbody>\n",
              "    <tr>\n",
              "      <th>reinforce</th>\n",
              "      <td>0.0</td>\n",
              "      <td>1.000</td>\n",
              "    </tr>\n",
              "    <tr>\n",
              "      <th>td</th>\n",
              "      <td>0.0</td>\n",
              "      <td>0.225</td>\n",
              "    </tr>\n",
              "  </tbody>\n",
              "</table>\n",
              "</div>"
            ],
            "text/plain": [
              "           Eima    Aba\n",
              "reinforce   0.0  1.000\n",
              "td          0.0  0.225"
            ]
          },
          "metadata": {
            "tags": []
          },
          "execution_count": 16
        }
      ]
    },
    {
      "cell_type": "markdown",
      "metadata": {
        "id": "glKLkS8dBru1",
        "colab_type": "text"
      },
      "source": [
        "It seems that Eima doesn't learn anything, as her MLE eta is 0 in the two methods. For Aba, there is a meaningful difference between the two methods. This results of reinforcement are somewhat surprising, as the impression from the histogram of Part B was that Aba didn't learn at all, and Eima did learn the right probabilities. Perhaps the reason is that we didn't get a glimpse to the subject's results in the middle 60 trails."
      ]
    },
    {
      "cell_type": "markdown",
      "metadata": {
        "id": "FQqRQuO8t3M3",
        "colab_type": "text"
      },
      "source": [
        "####Q3"
      ]
    },
    {
      "cell_type": "markdown",
      "metadata": {
        "id": "C3IHWtbS5_nt",
        "colab_type": "text"
      },
      "source": [
        "#####3.1"
      ]
    },
    {
      "cell_type": "code",
      "metadata": {
        "id": "-t1koLhSt81j",
        "colab_type": "code",
        "colab": {}
      },
      "source": [
        "def symm(eta, model, trails=100 ,q0=0.4, q1=0.6):\n",
        "  if model == \"reinforce\":\n",
        "    results = pd.DataFrame(np.nan, index=np.arange(trails), columns=[\"y\",\"r\",\"p\"])\n",
        "    results.loc[0,\"p\"] = 0.5\n",
        "    for t in range(trails):\n",
        "      pt = results.loc[t,\"p\"]\n",
        "      yt = np.random.binomial(1,pt)\n",
        "      qt = q0 if yt==0 else q1\n",
        "      rt = np.random.binomial(1,qt)\n",
        "      results.loc[t, [\"y\",\"r\"]] = yt, rt\n",
        "      if t==trails-1:\n",
        "        break\n",
        "      results.loc[t+1, \"p\"] = pt + eta*rt*pt*(1-pt)*(yt-pt)\n",
        "    \n",
        "    return results\n",
        "  \n",
        "  else:\n",
        "    beta=2\n",
        "    results = pd.DataFrame(np.nan, index=np.arange(trails), columns=[\"y\",\"r\",\"p\",\"v0\",\"v1\"])\n",
        "    results.loc[0,\"p\"], results.loc[0,\"v0\"], results.loc[0,\"v1\"] = 0.5, 0, 0\n",
        "    for t in range(trails):\n",
        "      pt = results.loc[t,\"p\"]\n",
        "      yt = np.random.binomial(1, pt)\n",
        "      qt = q0 if yt==0 else q1\n",
        "      rt = np.random.binomial(1,qt)\n",
        "      results.loc[t, [\"y\",\"r\"]] = yt, rt\n",
        "      \n",
        "      if t==trails-1:\n",
        "        break\n",
        "      d_0, d_1 = int(yt==0), int(yt==1) # delta(i,yt) function\n",
        "      v0t, v1t = results.loc[t,\"v0\"], results.loc[t,\"v1\"]\n",
        "      v0_new = v0t + eta*d_0*(rt-v0t)\n",
        "      v1_new = v1t + eta*d_1*(rt-v1t)\n",
        "      \n",
        "      results.loc[t+1, \"v0\"] = v0_new\n",
        "      results.loc[t+1, \"v1\"] = v1_new\n",
        "      results.loc[t+1,\"p\"] = np.exp(beta*v1_new)/(np.exp(beta*v1_new)+np.exp(beta*v0_new))\n",
        "    \n",
        "    return results"
      ],
      "execution_count": 0,
      "outputs": []
    },
    {
      "cell_type": "markdown",
      "metadata": {
        "id": "_2SMuSZJ6Cks",
        "colab_type": "text"
      },
      "source": [
        "#####3.2"
      ]
    },
    {
      "cell_type": "code",
      "metadata": {
        "id": "1ClQBp_050mo",
        "colab_type": "code",
        "colab": {}
      },
      "source": [
        "E_R_lst = []\n",
        "for i in range(100):\n",
        "  res = symm(eta = opt_etas.loc[\"reinforce\",\"Eima\"], model=\"reinforce\")\n",
        "  eta = mle_eta_reinforce(res=res)\n",
        "  E_R_lst.append(eta)\n",
        "\n",
        "A_R_lst = []\n",
        "for i in range(100):\n",
        "  res = symm(eta = opt_etas.loc[\"reinforce\",\"Aba\"], model=\"reinforce\")\n",
        "  eta = mle_eta_reinforce(res=res)\n",
        "  A_R_lst.append(eta)\n",
        "\n",
        "E_T_lst = []\n",
        "for i in range(100):\n",
        "  res = symm(eta = opt_etas.loc[\"td\",\"Eima\"], model=\"td\")\n",
        "  eta = mle_eta_td(res=res)\n",
        "  E_T_lst.append(eta)\n",
        "\n",
        "A_T_lst = []\n",
        "for i in range(100):\n",
        "  res = symm(eta = opt_etas.loc[\"td\",\"Aba\"], model=\"td\")\n",
        "  eta = mle_eta_td(res=res)\n",
        "  A_T_lst.append(eta)"
      ],
      "execution_count": 0,
      "outputs": []
    },
    {
      "cell_type": "markdown",
      "metadata": {
        "id": "uRwRStqCCiXP",
        "colab_type": "text"
      },
      "source": [
        "As finding the optimal eta (from np.arange(0,1,0.005)) in Question 3.2 took approx 2 minutes, the process above takes 100(trails of experiment) * 2 minutes, which means more than 3 hours of running. I ran it once but couldn't try and symmulate it for more than that, the results are printed below."
      ]
    },
    {
      "cell_type": "markdown",
      "metadata": {
        "id": "tEYfCrj78e_-",
        "colab_type": "text"
      },
      "source": [
        "#####3.3"
      ]
    },
    {
      "cell_type": "code",
      "metadata": {
        "id": "iFPeSji489Ts",
        "colab_type": "code",
        "colab": {
          "base_uri": "https://localhost:8080/",
          "height": 108
        },
        "outputId": "fca53176-fe5a-491b-a072-ed3fba98487b"
      },
      "source": [
        "print(E_R_lst)\n",
        "print(E_T_lst)\n",
        "print(A_R_lst)\n",
        "print(A_T_lst)"
      ],
      "execution_count": 134,
      "outputs": [
        {
          "output_type": "stream",
          "text": [
            "[1.0, 0.0, 0.535, 1.0, 0.61, 1.0, 0.865, 1.0, 0.44, 0.63, 1.0, 0.26, 1.0, 0.91, 1.0, 1.0, 1.0, 0.0, 1.0, 0.63, 1.0, 1.0, 0.755, 1.0, 0.14, 0.48, 1.0, 0.28, 1.0, 0.485, 1.0, 0.8300000000000001, 1.0, 1.0, 1.0, 1.0, 0.73, 1.0, 0.185, 0.51, 0.32, 1.0, 0.0, 1.0, 1.0, 0.19, 1.0, 0.34500000000000003, 1.0, 1.0, 0.875, 1.0, 1.0, 0.135, 1.0, 1.0, 0.0, 1.0, 0.485, 1.0, 1.0, 0.0, 0.605, 1.0, 1.0, 0.65, 0.26, 0.2, 1.0, 1.0, 1.0, 0.0, 0.605, 1.0, 1.0, 1.0, 0.23, 0.635, 0.435, 0.5700000000000001, 0.0, 0.875, 0.35000000000000003, 1.0, 0.76, 1.0, 0.28500000000000003, 0.56, 1.0, 1.0, 1.0, 0.0, 1.0, 1.0, 0.885, 0.49, 0.0, 0.385, 1.0, 1.0]\n",
            "[0.005, 0.055, 0.05, 0.215, 0.085, 0.21, 0.15, 0.255, 0.21, 0.1, 0.1, 0.305, 0.13, 0.225, 0.26, 0.3, 0.265, 0.21, 0.12, 0.055, 0.145, 0.09, 0.25, 0.105, 0.265, 0.12, 0.06, 0.185, 0.3, 0.05, 0.27, 0.41500000000000004, 0.105, 0.075, 0.15, 0.155, 0.16, 0.13, 0.545, 0.095, 0.225, 0.28500000000000003, 0.195, 0.245, 0.065, 0.05, 0.20500000000000002, 0.20500000000000002, 0.16, 0.14, 0.335, 0.2, 0.19, 0.135, 0.12, 0.16, 0.105, 0.135, 0.08, 0.08, 0.265, 0.125, 0.265, 0.25, 0.15, 0.135, 0.21, 0.085, 0.04, 0.195, 0.025, 0.23500000000000001, 0.23500000000000001, 0.12, 0.225, 0.22, 0.255, 0.325, 0.17500000000000002, 0.42, 0.07, 0.08, 0.34, 0.195, 0.065, 0.23500000000000001, 0.0, 0.0, 0.045, 0.27, 0.2, 0.16, 0.155, 0.16, 0.395, 0.165, 0.085, 0.155, 0.5, 0.305]\n",
            "[1.0, 1.0, 0.0, 1.0, 1.0, 1.0, 1.0, 1.0, 1.0, 1.0, 0.0, 1.0, 0.885, 1.0, 1.0, 1.0, 1.0, 0.0, 1.0, 1.0, 1.0, 0.0, 1.0, 1.0, 1.0, 1.0, 1.0, 1.0, 1.0, 1.0, 1.0, 1.0, 0.0, 1.0, 0.47500000000000003, 1.0, 0.985, 1.0, 1.0, 1.0, 0.0, 1.0, 1.0, 1.0, 1.0, 0.0, 1.0, 1.0, 1.0, 0.42, 1.0, 0.935, 1.0, 1.0, 1.0, 1.0, 1.0, 1.0, 0.0, 1.0, 0.0, 1.0, 0.075, 1.0, 0.385, 1.0, 0.51, 1.0, 1.0, 1.0, 1.0, 1.0, 0.0, 1.0, 0.0, 1.0, 1.0, 1.0, 0.93, 0.0, 1.0, 1.0, 0.0, 1.0, 1.0, 1.0, 0.0, 1.0, 0.0, 1.0, 1.0, 0.0, 1.0, 1.0, 1.0, 1.0, 1.0, 0.0, 1.0, 1.0]\n",
            "[0.095, 0.225, 0.185, 0.09, 0.1, 0.225, 0.18, 0.23, 0.075, 0.19, 0.22, 0.06, 0.09, 0.025, 0.28, 0.115, 0.09, 0.13, 0.095, 0.18, 0.23, 0.195, 0.07, 0.28500000000000003, 0.27, 0.08, 0.41000000000000003, 0.23500000000000001, 0.075, 0.0, 0.09, 0.105, 0.105, 0.255, 0.07, 0.065, 0.195, 0.17500000000000002, 0.13, 0.1, 0.12, 0.11, 0.09, 0.24, 0.35000000000000003, 0.095, 0.065, 0.045, 0.15, 0.295, 0.05, 0.045, 0.095, 0.16, 0.08, 0.085, 0.0, 0.065, 0.165, 0.075, 0.065, 0.225, 0.23, 0.095, 0.365, 0.19, 0.06, 0.1, 0.105, 0.095, 0.21, 0.06, 0.085, 0.17, 0.01, 0.33, 0.06, 0.08, 0.24, 0.065, 0.0, 0.095, 0.065, 0.185, 0.095, 0.075, 0.07, 0.09, 0.105, 0.215, 0.19, 0.395, 0.055, 0.065, 0.135, 0.25, 0.19, 0.125, 0.265, 0.05]\n"
          ],
          "name": "stdout"
        }
      ]
    },
    {
      "cell_type": "code",
      "metadata": {
        "id": "C8TKehqoFB-z",
        "colab_type": "code",
        "colab": {}
      },
      "source": [
        "E_R_lst = [1.0, 0.0, 0.535, 1.0, 0.61, 1.0, 0.865, 1.0, 0.44, 0.63, 1.0, 0.26, 1.0, 0.91, 1.0, 1.0, 1.0, 0.0, 1.0, 0.63, 1.0, 1.0, 0.755, 1.0, 0.14, 0.48, 1.0, 0.28, 1.0, 0.485, 1.0, 0.8300000000000001, 1.0, 1.0, 1.0, 1.0, 0.73, 1.0, 0.185, 0.51, 0.32, 1.0, 0.0, 1.0, 1.0, 0.19, 1.0, 0.34500000000000003, 1.0, 1.0, 0.875, 1.0, 1.0, 0.135, 1.0, 1.0, 0.0, 1.0, 0.485, 1.0, 1.0, 0.0, 0.605, 1.0, 1.0, 0.65, 0.26, 0.2, 1.0, 1.0, 1.0, 0.0, 0.605, 1.0, 1.0, 1.0, 0.23, 0.635, 0.435, 0.5700000000000001, 0.0, 0.875, 0.35000000000000003, 1.0, 0.76, 1.0, 0.28500000000000003, 0.56, 1.0, 1.0, 1.0, 0.0, 1.0, 1.0, 0.885, 0.49, 0.0, 0.385, 1.0, 1.0]\n",
        "E_T_lst = [0.005, 0.055, 0.05, 0.215, 0.085, 0.21, 0.15, 0.255, 0.21, 0.1, 0.1, 0.305, 0.13, 0.225, 0.26, 0.3, 0.265, 0.21, 0.12, 0.055, 0.145, 0.09, 0.25, 0.105, 0.265, 0.12, 0.06, 0.185, 0.3, 0.05, 0.27, 0.41500000000000004, 0.105, 0.075, 0.15, 0.155, 0.16, 0.13, 0.545, 0.095, 0.225, 0.28500000000000003, 0.195, 0.245, 0.065, 0.05, 0.20500000000000002, 0.20500000000000002, 0.16, 0.14, 0.335, 0.2, 0.19, 0.135, 0.12, 0.16, 0.105, 0.135, 0.08, 0.08, 0.265, 0.125, 0.265, 0.25, 0.15, 0.135, 0.21, 0.085, 0.04, 0.195, 0.025, 0.23500000000000001, 0.23500000000000001, 0.12, 0.225, 0.22, 0.255, 0.325, 0.17500000000000002, 0.42, 0.07, 0.08, 0.34, 0.195, 0.065, 0.23500000000000001, 0.0, 0.0, 0.045, 0.27, 0.2, 0.16, 0.155, 0.16, 0.395, 0.165, 0.085, 0.155, 0.5, 0.305]\n",
        "A_R_lst = [1.0, 1.0, 0.0, 1.0, 1.0, 1.0, 1.0, 1.0, 1.0, 1.0, 0.0, 1.0, 0.885, 1.0, 1.0, 1.0, 1.0, 0.0, 1.0, 1.0, 1.0, 0.0, 1.0, 1.0, 1.0, 1.0, 1.0, 1.0, 1.0, 1.0, 1.0, 1.0, 0.0, 1.0, 0.47500000000000003, 1.0, 0.985, 1.0, 1.0, 1.0, 0.0, 1.0, 1.0, 1.0, 1.0, 0.0, 1.0, 1.0, 1.0, 0.42, 1.0, 0.935, 1.0, 1.0, 1.0, 1.0, 1.0, 1.0, 0.0, 1.0, 0.0, 1.0, 0.075, 1.0, 0.385, 1.0, 0.51, 1.0, 1.0, 1.0, 1.0, 1.0, 0.0, 1.0, 0.0, 1.0, 1.0, 1.0, 0.93, 0.0, 1.0, 1.0, 0.0, 1.0, 1.0, 1.0, 0.0, 1.0, 0.0, 1.0, 1.0, 0.0, 1.0, 1.0, 1.0, 1.0, 1.0, 0.0, 1.0, 1.0]\n",
        "A_T_lst = [0.095, 0.225, 0.185, 0.09, 0.1, 0.225, 0.18, 0.23, 0.075, 0.19, 0.22, 0.06, 0.09, 0.025, 0.28, 0.115, 0.09, 0.13, 0.095, 0.18, 0.23, 0.195, 0.07, 0.28500000000000003, 0.27, 0.08, 0.41000000000000003, 0.23500000000000001, 0.075, 0.0, 0.09, 0.105, 0.105, 0.255, 0.07, 0.065, 0.195, 0.17500000000000002, 0.13, 0.1, 0.12, 0.11, 0.09, 0.24, 0.35000000000000003, 0.095, 0.065, 0.045, 0.15, 0.295, 0.05, 0.045, 0.095, 0.16, 0.08, 0.085, 0.0, 0.065, 0.165, 0.075, 0.065, 0.225, 0.23, 0.095, 0.365, 0.19, 0.06, 0.1, 0.105, 0.095, 0.21, 0.06, 0.085, 0.17, 0.01, 0.33, 0.06, 0.08, 0.24, 0.065, 0.0, 0.095, 0.065, 0.185, 0.095, 0.075, 0.07, 0.09, 0.105, 0.215, 0.19, 0.395, 0.055, 0.065, 0.135, 0.25, 0.19, 0.125, 0.265, 0.05]"
      ],
      "execution_count": 0,
      "outputs": []
    },
    {
      "cell_type": "code",
      "metadata": {
        "id": "aWTzzjkdFJx0",
        "colab_type": "code",
        "colab": {
          "base_uri": "https://localhost:8080/",
          "height": 295
        },
        "outputId": "4319bea6-e809-41e2-e406-bfe4e65ea148"
      },
      "source": [
        "pd.DataFrame(np.column_stack([E_R_lst,A_R_lst]), columns=[\"Eima\",\"Aba\"]).plot(kind=\"hist\", ec=\"k\")\n",
        "plt.title(\"Estimated Learning Rates According to Symmulation of Method Reinforce\")\n",
        "plt.xlabel(\"eta\")\n",
        "plt.show()"
      ],
      "execution_count": 29,
      "outputs": [
        {
          "output_type": "display_data",
          "data": {
            "image/png": "[encoded data removed]",
            "text/plain": [
              "<Figure size 432x288 with 1 Axes>"
            ]
          },
          "metadata": {
            "tags": []
          }
        }
      ]
    },
    {
      "cell_type": "markdown",
      "metadata": {
        "id": "ZcnSnGEEenFw",
        "colab_type": "text"
      },
      "source": [
        "As we can see, the symmulation of the reinforce could totally differenciate between the subject's learning rates. This is compatible with the results we've got when we examine the true results of the subjects, when Eima got eta=0 and Aba got eta=1. However, we should notice the that the Eima etas are pretty uniformly distributed between 0.1 to 0.9, which put our estimation in a question mark. On the other Hand, most of Aba's etas are equal 1, corresponding the MLE estimation which conducted using his true results."
      ]
    },
    {
      "cell_type": "code",
      "metadata": {
        "id": "8LdbAocBGQRk",
        "colab_type": "code",
        "colab": {
          "base_uri": "https://localhost:8080/",
          "height": 295
        },
        "outputId": "7298da4d-fb9c-41ed-d29f-75ce4e1aafbc"
      },
      "source": [
        "pd.DataFrame(np.column_stack([E_T_lst,A_T_lst]), columns=[\"Eima\",\"Aba\"]).plot(kind=\"hist\", ec=\"k\")\n",
        "plt.title(\"Estimated Learning Rates According to Symmulation of Method TD\")\n",
        "plt.xlabel(\"eta\")\n",
        "plt.show()"
      ],
      "execution_count": 30,
      "outputs": [
        {
          "output_type": "display_data",
          "data": {
            "image/png": "[encoded data removed]",
            "text/plain": [
              "<Figure size 432x288 with 1 Axes>"
            ]
          },
          "metadata": {
            "tags": []
          }
        }
      ]
    },
    {
      "cell_type": "markdown",
      "metadata": {
        "id": "2M7NWpSCGcRE",
        "colab_type": "text"
      },
      "source": [
        "It seems that on average the subject's rate are similar, though Aba's distribution is more concentrated. While the estimation which was based on the true value assigned to Eima 0, it's interesting to see that according to the none of the symmulations assigned her zero."
      ]
    },
    {
      "cell_type": "markdown",
      "metadata": {
        "id": "gAblEQgykGaX",
        "colab_type": "text"
      },
      "source": [
        "### Part D"
      ]
    },
    {
      "cell_type": "markdown",
      "metadata": {
        "id": "urb7dYUUkJav",
        "colab_type": "text"
      },
      "source": [
        "In my opinion the reinforce is better. Firstlly, we can could see it empirically In Question 3.3, as this method were closer to the estiomation based on the real results. Moreover, the log-likelihood (P) of the TD is learned by composition of two functions: from results to the parameter V and from V to p by the sigmoid function, while The latter takes as an argument also a parameter beta. That is, we may insert another assumption to our model, which is not clearly rely on the data or other theoretical knowledge that we've already have."
      ]
    }
  ]
}