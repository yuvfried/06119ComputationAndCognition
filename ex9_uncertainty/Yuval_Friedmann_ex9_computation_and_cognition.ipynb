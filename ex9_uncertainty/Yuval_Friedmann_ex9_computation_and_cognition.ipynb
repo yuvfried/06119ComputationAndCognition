{
  "nbformat": 4,
  "nbformat_minor": 0,
  "metadata": {
    "colab": {
      "name": "ex9_computation_and_cognition.ipynb",
      "provenance": [],
      "collapsed_sections": [],
      "toc_visible": true
    },
    "kernelspec": {
      "name": "python3",
      "display_name": "Python 3"
    }
  },
  "cells": [
    {
      "cell_type": "code",
      "metadata": {
        "id": "V-peP8ftApZZ",
        "colab_type": "code",
        "outputId": "7a29f544-861b-4d13-c5ec-2cfe22014521",
        "colab": {
          "base_uri": "https://localhost:8080/",
          "height": 126
        }
      },
      "source": [
        "from google.colab import drive\n",
        "drive.mount('/content/drive')"
      ],
      "execution_count": 2,
      "outputs": [
        {
          "output_type": "stream",
          "text": [
            "Go to this URL in a browser: https://accounts.google.com/o/oauth2/auth?client_id=947318989803-6bn6qk8qdgf4n4g3pfee6491hc0brc4i.apps.googleusercontent.com&redirect_uri=urn%3aietf%3awg%3aoauth%3a2.0%3aoob&response_type=code&scope=email%20https%3a%2f%2fwww.googleapis.com%2fauth%2fdocs.test%20https%3a%2f%2fwww.googleapis.com%2fauth%2fdrive%20https%3a%2f%2fwww.googleapis.com%2fauth%2fdrive.photos.readonly%20https%3a%2f%2fwww.googleapis.com%2fauth%2fpeopleapi.readonly\n",
            "\n",
            "Enter your authorization code:\n",
            "··········\n",
            "Mounted at /content/drive\n"
          ],
          "name": "stdout"
        }
      ]
    },
    {
      "cell_type": "code",
      "metadata": {
        "id": "z65oQpbzAWUg",
        "colab_type": "code",
        "colab": {}
      },
      "source": [
        "import pandas as pd\n",
        "import numpy as np\n",
        "import os\n",
        "import matplotlib.pyplot as plt\n",
        "os.chdir(\"/content/drive/My Drive/C&C/ex9_files\")\n",
        "from Hamster import myHamster\n",
        "from scipy.io import loadmat"
      ],
      "execution_count": 0,
      "outputs": []
    },
    {
      "cell_type": "markdown",
      "metadata": {
        "id": "SIzZOddqhJX-",
        "colab_type": "text"
      },
      "source": [
        "###Q1"
      ]
    },
    {
      "cell_type": "code",
      "metadata": {
        "id": "oSys0NZliJ7D",
        "colab_type": "code",
        "colab": {}
      },
      "source": [
        "# allows to implement many trails in efficient way\n",
        "ham = np.vectorize(myHamster)"
      ],
      "execution_count": 0,
      "outputs": []
    },
    {
      "cell_type": "code",
      "metadata": {
        "id": "3rBwTQ5bi71f",
        "colab_type": "code",
        "colab": {}
      },
      "source": [
        "trail=0\n",
        "Xg = 1\n",
        "bals = [1] # init Xs\n",
        "u = [1] # init u(Xs)\n",
        "while trail <=5:\n",
        "  trail+=1\n",
        "  balance = np.linspace(0,Xg,num=2000)[ham(np.linspace(0, Xg, num=2000),Xg,320).sum()]\n",
        "  bals.append(balance)\n",
        "  u.append(u[trail-1]*0.5)\n",
        "  Xg = balance"
      ],
      "execution_count": 0,
      "outputs": []
    },
    {
      "cell_type": "code",
      "metadata": {
        "id": "8v0_9KJPz4Ee",
        "colab_type": "code",
        "outputId": "88b0aca5-5dcf-4a61-f906-03d6dca515bd",
        "colab": {
          "base_uri": "https://localhost:8080/",
          "height": 295
        }
      },
      "source": [
        "plt.plot(bals,u)\n",
        "plt.title(\"Approximated u(x) for id 320\")\n",
        "plt.xlabel(\"x\")\n",
        "plt.ylabel(\"u(x)\")\n",
        "plt.xticks(np.arange(0,1.25,0.25))\n",
        "plt.yticks(np.arange(0,1.25,0.25))\n",
        "plt.grid()\n",
        "plt.show()"
      ],
      "execution_count": 6,
      "outputs": [
        {
          "output_type": "display_data",
          "data": {
            "image/png": "[encoded data removed]",
            "text/plain": [
              "<Figure size 432x288 with 1 Axes>"
            ]
          },
          "metadata": {
            "tags": []
          }
        }
      ]
    },
    {
      "cell_type": "markdown",
      "metadata": {
        "id": "KLgyu8Xk6jo6",
        "colab_type": "text"
      },
      "source": [
        "As we will explain later in Question 2.2, this shape of utility function represents \"risk-loving\", as the hamster under-appreciates the value of its possible gain."
      ]
    },
    {
      "cell_type": "markdown",
      "metadata": {
        "id": "FQq5j_Uu0196",
        "colab_type": "text"
      },
      "source": [
        "###Q2"
      ]
    },
    {
      "cell_type": "code",
      "metadata": {
        "id": "19qlBiY-51Ki",
        "colab_type": "code",
        "colab": {}
      },
      "source": [
        "PI = \"\\u03C0\"\n",
        "ALPHA = \"\\u03B1\"\n",
        "SIGMA = \"\\u03C3\""
      ],
      "execution_count": 0,
      "outputs": []
    },
    {
      "cell_type": "markdown",
      "metadata": {
        "id": "ytM1FUl95lDM",
        "colab_type": "text"
      },
      "source": [
        "####2.1"
      ]
    },
    {
      "cell_type": "code",
      "metadata": {
        "id": "cpaiBRII2X4D",
        "colab_type": "code",
        "outputId": "9aff424c-3dfa-4f90-b4ca-0b330092cfae",
        "colab": {
          "base_uri": "https://localhost:8080/",
          "height": 370
        }
      },
      "source": [
        "p = np.arange(start=0.001,stop=1,step=0.005) # can't take log of zero\n",
        "alpha = [0.5,1,1.9]\n",
        "signs = [\"<\",\"=\",\">\"]\n",
        "\n",
        "fig, ax = plt.subplots(1,3, figsize=(15,5))\n",
        "for i in range(len(alpha)):\n",
        "  pi = np.exp(-((-np.log(p))**alpha[i]))\n",
        "  \n",
        "  ax[i].plot(p,pi, label=PI+\"(p) = exp{-ln(p)^\"+ALPHA+\"}\")\n",
        "  ax[i].set_title(PI+\"(p) for \"+ALPHA+signs[i]+\"1\")\n",
        "  ax[i].set_xlabel(\"p\")\n",
        "  ax[i].set_ylim(0,1)\n",
        "  ax[i].grid()\n",
        "  ax[i].plot(p,p,linestyle=\"--\", alpha=0.5, lw=1, c=\"r\", label=PI+\"(p)=p\")\n",
        "  ax[i].set_xticks(np.arange(0,1.25,step=0.25))\n",
        "  ax[i].set_yticks(np.arange(0,1.25,step=0.25))\n",
        "  ax[i].legend()\n",
        "\n",
        "fig.suptitle(\"Title\", fontsize=20)\n",
        "fig.subplots_adjust(top=0.8)\n",
        "plt.show()"
      ],
      "execution_count": 8,
      "outputs": [
        {
          "output_type": "display_data",
          "data": {
            "image/png": "[encoded data removed]",
            "text/plain": [
              "<Figure size 1080x360 with 3 Axes>"
            ]
          },
          "metadata": {
            "tags": []
          }
        }
      ]
    },
    {
      "cell_type": "markdown",
      "metadata": {
        "id": "Jw9GD9WUUKhI",
        "colab_type": "text"
      },
      "source": [
        "#### Differences between alpha's and the effect on the tendency to the gumbling option\n",
        "* alpha<1:\\\n",
        "Overestimation of low probabilities and underestimation of high ones, corresponding with the \"prospect theory\". Suppose the hamster has an high p to get the peanuts in the gambling option, it would treat its decision as if it has lower probabilities to get the peanuts. On the other hand, it would be scared from the 1-p prob. to don't get the peanuts at all more than it should be. Therfore, it would choose the gambling option less times as it should be to maximize its gain expectation. In contrary, suppose the hamster has low p to get the peanuts, it would choose to gamble more times than it should be to maximize its gain expectation.\n",
        "\n",
        "* alpha=1:\\\n",
        "The tendency of the hamster to gumble is determined directly by the real probabilities to gain the peanuts.\n",
        "\n",
        "* alpha>1:\\\n",
        "Overestimation of high probabilities and underestimation of low ones. The reverse tendency of alpha<1: Suppuse to gumbling has high gain probabilities - the hamster would be even braver than it should be and would choose the this option a lot. Lower p to gain would cause to over fear from the hamster and it would tend not to gamble and choose the safe option even more than it should be.\n",
        "\n",
        "#### Similarities between the alpha's\n",
        "The pi function \"skew\" the real probabilities, representing the probabilities as they are perceived in the hamster's mind (excluding alpha=1 exactly)."
      ]
    },
    {
      "cell_type": "markdown",
      "metadata": {
        "id": "V1pDyxtg5oHA",
        "colab_type": "text"
      },
      "source": [
        "####2.2"
      ]
    },
    {
      "cell_type": "code",
      "metadata": {
        "id": "k9njBhUA02qa",
        "colab_type": "code",
        "outputId": "429656ba-1557-4115-9561-459924bd03e9",
        "colab": {
          "base_uri": "https://localhost:8080/",
          "height": 308
        }
      },
      "source": [
        "x = np.arange(start=0,stop=1,step=0.005)\n",
        "sigma = [0.5,1,1.9]\n",
        "signs = [\"<\",\"=\",\">\"]\n",
        "\n",
        "fig, ax = plt.subplots(1,3, figsize=(15,4))\n",
        "for i in range(len(sigma)):\n",
        "  u = x**sigma[i]\n",
        "  \n",
        "  ax[i].plot(p,u, label=\"u(x) = x^\"+SIGMA)\n",
        "  ax[i].set_title(\"u(x) for \"+SIGMA+signs[i]+\"1\")\n",
        "  ax[i].set_xlabel(\"x\")\n",
        "  ax[i].set_ylim(0,1)\n",
        "  ax[i].grid()\n",
        "  ax[i].plot(x,x,linestyle=\"--\", alpha=0.5, lw=1, c=\"r\", label=\"u(x)=x\")\n",
        "  ax[i].set_xticks(np.arange(0,1.25,step=0.25))\n",
        "  ax[i].set_yticks(np.arange(0,1.25,step=0.25))\n",
        "  ax[i].legend()\n",
        "\n",
        "fig.suptitle(\"Title\", fontsize=20)\n",
        "fig.subplots_adjust(top=0.8)\n",
        "plt.show()"
      ],
      "execution_count": 9,
      "outputs": [
        {
          "output_type": "display_data",
          "data": {
            "image/png": "[encoded data removed]",
            "text/plain": [
              "<Figure size 1080x288 with 3 Axes>"
            ]
          },
          "metadata": {
            "tags": []
          }
        }
      ]
    },
    {
      "cell_type": "markdown",
      "metadata": {
        "id": "Yva46F--ipJM",
        "colab_type": "text"
      },
      "source": [
        "#### Similarities across the sigma's\n",
        "Mathematically, this function is a simple exponential function, and has its typical shapes for power by exponent which is smaller then (leftist plot) or greater then 1 (rightist plot). This function suppose to describe the subjective value of an x grams of peanuts as they are perceived in the hamster's mind. Naturally, the common thing across these three functions is that they are monotonically increase, namely, the more peanuts the hamster gets, the more he appreciates its gain.\n",
        "\n",
        "#### Differences between sigma's and the effect on the tendency to the gumbling option\n",
        "* sigma<1:\\\n",
        "Over appreciation of the value of gain by the hamster. In addition, notice that for lower amounts of peanuts the deviation of the value in the hamster's mind is remarkably higher then for higher ones (u(0.25)=0.5 but u(0.9) is almost equal 0.9. Typically in the safe option the amount of peanuts is lower then the gambling option, and as this case represent an over appreciation of peanuts, we could say that sigma<1 makes the subject to less selections of gambling. We named this situation \"risk-aversion\" in the class.\n",
        "\n",
        "\n",
        "* sigma=1:\\\n",
        "The value of peanuts is the concrete amount of peanuts the hamster get.\n",
        "\n",
        "* sigma>1:\\\n",
        "Under appreciation of the value of gain by the hamster. In addition, notice that for lower amounts of peanuts the deviation of the value in the hamster's mind is remarkably lower then for higher ones (u(0.25) is less then 0.1 but u(0.9) is almost equal 0.9). Typically in the safe option the amount of peanuts is lower then the gambling option, and as this case represent an under appreciation of peanuts, we could say that sigma>1 makes the subject to more selections of gambling. We named this situation \"risk-loving\" in the class."
      ]
    },
    {
      "cell_type": "markdown",
      "metadata": {
        "id": "U0rObWTo5X2H",
        "colab_type": "text"
      },
      "source": [
        "####2.3 - Analytic Part\n",
        "Attached in the end of the PDF"
      ]
    },
    {
      "cell_type": "markdown",
      "metadata": {
        "id": "R9xn8I2NeyQb",
        "colab_type": "text"
      },
      "source": [
        "####2.4"
      ]
    },
    {
      "cell_type": "code",
      "metadata": {
        "id": "uguen71Lwmru",
        "colab_type": "code",
        "colab": {}
      },
      "source": [
        "# load experiment from matlab\n",
        "expr = pd.DataFrame()\n",
        "for key in loadmat(\"ex9_q2_data.mat\"):\n",
        "  if type(loadmat(\"ex9_q2_data.mat\")[key])==type(np.zeros((2,3))):\n",
        "    expr = pd.concat([expr,pd.DataFrame(loadmat(\"ex9_q2_data.mat\")[key].reshape(-1),columns=[key])], axis=1)\n",
        "expr[\"p\"] = expr[\"p\"].apply(lambda p: p/100)\n",
        "expr[\"choice\"] = expr[\"choice\"].map({2:\"s\",1:\"g\"})"
      ],
      "execution_count": 0,
      "outputs": []
    },
    {
      "cell_type": "code",
      "metadata": {
        "id": "iYw8-x_R9LdO",
        "colab_type": "code",
        "colab": {}
      },
      "source": [
        "# Xg and p have one-to-one relationship, we'll drop p for make the processing simpler\n",
        "Xg_p_dict = {}\n",
        "for t in expr[['Xg','p']].drop_duplicates().set_index(\"Xg\").itertuples():\n",
        "  Xg_p_dict[t[0]] = t[1]"
      ],
      "execution_count": 0,
      "outputs": []
    },
    {
      "cell_type": "code",
      "metadata": {
        "id": "HBcWX_TtGMCC",
        "colab_type": "code",
        "colab": {
          "base_uri": "https://localhost:8080/",
          "height": 35
        },
        "outputId": "b85545be-ff81-46d3-ca7d-f2be6f86e2bd"
      },
      "source": [
        "Xg_p_dict"
      ],
      "execution_count": 12,
      "outputs": [
        {
          "output_type": "execute_result",
          "data": {
            "text/plain": [
              "{150: 0.7, 400: 0.9, 500: 0.1, 700: 0.55, 2000: 0.06, 5000: 0.99, 10000: 0.002}"
            ]
          },
          "metadata": {
            "tags": []
          },
          "execution_count": 12
        }
      ]
    },
    {
      "cell_type": "code",
      "metadata": {
        "id": "SeQMgXE8wnKZ",
        "colab_type": "code",
        "colab": {}
      },
      "source": [
        "# results with multindexing pandas\n",
        "results = expr.groupby([\"subject\",\"h\",\"Xg\",\"choice\"]).agg({\"Xs\":lambda x: x.tolist()}).transpose()"
      ],
      "execution_count": 0,
      "outputs": []
    },
    {
      "cell_type": "code",
      "metadata": {
        "id": "Rg1K_CiXBShE",
        "colab_type": "code",
        "colab": {
          "base_uri": "https://localhost:8080/",
          "height": 338
        },
        "outputId": "b949b590-34b0-40c5-f7bd-98c06cd6e134"
      },
      "source": [
        "results"
      ],
      "execution_count": 14,
      "outputs": [
        {
          "output_type": "execute_result",
          "data": {
            "text/html": [
              "<div>\n",
              "<style scoped>\n",
              "    .dataframe tbody tr th:only-of-type {\n",
              "        vertical-align: middle;\n",
              "    }\n",
              "\n",
              "    .dataframe tbody tr th {\n",
              "        vertical-align: top;\n",
              "    }\n",
              "\n",
              "    .dataframe thead tr th {\n",
              "        text-align: left;\n",
              "    }\n",
              "</style>\n",
              "<table border=\"1\" class=\"dataframe\">\n",
              "  <thead>\n",
              "    <tr>\n",
              "      <th>subject</th>\n",
              "      <th colspan=\"26\" halign=\"left\">1</th>\n",
              "      <th colspan=\"14\" halign=\"left\">2</th>\n",
              "      <th>...</th>\n",
              "      <th colspan=\"14\" halign=\"left\">29</th>\n",
              "      <th colspan=\"26\" halign=\"left\">30</th>\n",
              "    </tr>\n",
              "    <tr>\n",
              "      <th>h</th>\n",
              "      <th colspan=\"13\" halign=\"left\">1</th>\n",
              "      <th colspan=\"13\" halign=\"left\">2</th>\n",
              "      <th colspan=\"14\" halign=\"left\">1</th>\n",
              "      <th>...</th>\n",
              "      <th colspan=\"2\" halign=\"left\">1</th>\n",
              "      <th colspan=\"12\" halign=\"left\">2</th>\n",
              "      <th colspan=\"13\" halign=\"left\">1</th>\n",
              "      <th colspan=\"13\" halign=\"left\">2</th>\n",
              "    </tr>\n",
              "    <tr>\n",
              "      <th>Xg</th>\n",
              "      <th colspan=\"2\" halign=\"left\">150</th>\n",
              "      <th colspan=\"2\" halign=\"left\">400</th>\n",
              "      <th colspan=\"2\" halign=\"left\">500</th>\n",
              "      <th colspan=\"2\" halign=\"left\">700</th>\n",
              "      <th colspan=\"2\" halign=\"left\">2000</th>\n",
              "      <th colspan=\"2\" halign=\"left\">5000</th>\n",
              "      <th>10000</th>\n",
              "      <th colspan=\"2\" halign=\"left\">150</th>\n",
              "      <th colspan=\"2\" halign=\"left\">400</th>\n",
              "      <th colspan=\"2\" halign=\"left\">500</th>\n",
              "      <th colspan=\"2\" halign=\"left\">700</th>\n",
              "      <th colspan=\"2\" halign=\"left\">2000</th>\n",
              "      <th colspan=\"2\" halign=\"left\">5000</th>\n",
              "      <th>10000</th>\n",
              "      <th colspan=\"2\" halign=\"left\">150</th>\n",
              "      <th colspan=\"2\" halign=\"left\">400</th>\n",
              "      <th colspan=\"2\" halign=\"left\">500</th>\n",
              "      <th colspan=\"2\" halign=\"left\">700</th>\n",
              "      <th colspan=\"2\" halign=\"left\">2000</th>\n",
              "      <th colspan=\"2\" halign=\"left\">5000</th>\n",
              "      <th colspan=\"2\" halign=\"left\">10000</th>\n",
              "      <th>...</th>\n",
              "      <th>5000</th>\n",
              "      <th>10000</th>\n",
              "      <th colspan=\"2\" halign=\"left\">150</th>\n",
              "      <th colspan=\"2\" halign=\"left\">400</th>\n",
              "      <th>500</th>\n",
              "      <th colspan=\"2\" halign=\"left\">700</th>\n",
              "      <th>2000</th>\n",
              "      <th colspan=\"2\" halign=\"left\">5000</th>\n",
              "      <th colspan=\"2\" halign=\"left\">10000</th>\n",
              "      <th colspan=\"2\" halign=\"left\">150</th>\n",
              "      <th colspan=\"2\" halign=\"left\">400</th>\n",
              "      <th colspan=\"2\" halign=\"left\">500</th>\n",
              "      <th colspan=\"2\" halign=\"left\">700</th>\n",
              "      <th colspan=\"2\" halign=\"left\">2000</th>\n",
              "      <th colspan=\"2\" halign=\"left\">5000</th>\n",
              "      <th>10000</th>\n",
              "      <th colspan=\"2\" halign=\"left\">150</th>\n",
              "      <th colspan=\"2\" halign=\"left\">400</th>\n",
              "      <th colspan=\"2\" halign=\"left\">500</th>\n",
              "      <th colspan=\"2\" halign=\"left\">700</th>\n",
              "      <th colspan=\"2\" halign=\"left\">2000</th>\n",
              "      <th colspan=\"2\" halign=\"left\">5000</th>\n",
              "      <th>10000</th>\n",
              "    </tr>\n",
              "    <tr>\n",
              "      <th>choice</th>\n",
              "      <th>g</th>\n",
              "      <th>s</th>\n",
              "      <th>g</th>\n",
              "      <th>s</th>\n",
              "      <th>g</th>\n",
              "      <th>s</th>\n",
              "      <th>g</th>\n",
              "      <th>s</th>\n",
              "      <th>g</th>\n",
              "      <th>s</th>\n",
              "      <th>g</th>\n",
              "      <th>s</th>\n",
              "      <th>s</th>\n",
              "      <th>g</th>\n",
              "      <th>s</th>\n",
              "      <th>g</th>\n",
              "      <th>s</th>\n",
              "      <th>g</th>\n",
              "      <th>s</th>\n",
              "      <th>g</th>\n",
              "      <th>s</th>\n",
              "      <th>g</th>\n",
              "      <th>s</th>\n",
              "      <th>g</th>\n",
              "      <th>s</th>\n",
              "      <th>s</th>\n",
              "      <th>g</th>\n",
              "      <th>s</th>\n",
              "      <th>g</th>\n",
              "      <th>s</th>\n",
              "      <th>g</th>\n",
              "      <th>s</th>\n",
              "      <th>g</th>\n",
              "      <th>s</th>\n",
              "      <th>g</th>\n",
              "      <th>s</th>\n",
              "      <th>g</th>\n",
              "      <th>s</th>\n",
              "      <th>g</th>\n",
              "      <th>s</th>\n",
              "      <th>...</th>\n",
              "      <th>s</th>\n",
              "      <th>s</th>\n",
              "      <th>g</th>\n",
              "      <th>s</th>\n",
              "      <th>g</th>\n",
              "      <th>s</th>\n",
              "      <th>s</th>\n",
              "      <th>g</th>\n",
              "      <th>s</th>\n",
              "      <th>s</th>\n",
              "      <th>g</th>\n",
              "      <th>s</th>\n",
              "      <th>g</th>\n",
              "      <th>s</th>\n",
              "      <th>g</th>\n",
              "      <th>s</th>\n",
              "      <th>g</th>\n",
              "      <th>s</th>\n",
              "      <th>g</th>\n",
              "      <th>s</th>\n",
              "      <th>g</th>\n",
              "      <th>s</th>\n",
              "      <th>g</th>\n",
              "      <th>s</th>\n",
              "      <th>g</th>\n",
              "      <th>s</th>\n",
              "      <th>s</th>\n",
              "      <th>g</th>\n",
              "      <th>s</th>\n",
              "      <th>g</th>\n",
              "      <th>s</th>\n",
              "      <th>g</th>\n",
              "      <th>s</th>\n",
              "      <th>g</th>\n",
              "      <th>s</th>\n",
              "      <th>g</th>\n",
              "      <th>s</th>\n",
              "      <th>g</th>\n",
              "      <th>s</th>\n",
              "      <th>s</th>\n",
              "    </tr>\n",
              "  </thead>\n",
              "  <tbody>\n",
              "    <tr>\n",
              "      <th>Xs</th>\n",
              "      <td>[50, 50]</td>\n",
              "      <td>[100, 66, 83, 54, 60, 52]</td>\n",
              "      <td>[133, 147, 162, 167]</td>\n",
              "      <td>[266, 177, 222, 172]</td>\n",
              "      <td>[18, 37]</td>\n",
              "      <td>[167, 333, 56, 112, 43, 50]</td>\n",
              "      <td>[25, 51, 59]</td>\n",
              "      <td>[233, 467, 77, 155, 68]</td>\n",
              "      <td>[147, 22]</td>\n",
              "      <td>[666, 1333, 221, 444, 72, 47]</td>\n",
              "      <td>[1667, 2222, 2778, 2963, 3149, 3211, 3273]</td>\n",
              "      <td>[3333]</td>\n",
              "      <td>[3333, 6666, 1111, 2222, 370, 741, 122, 246]</td>\n",
              "      <td>[50]</td>\n",
              "      <td>[100, 66, 83, 54, 60, 50, 52]</td>\n",
              "      <td>[266, 44, 74, 49, 54]</td>\n",
              "      <td>[133, 89, 59]</td>\n",
              "      <td>[56, 93]</td>\n",
              "      <td>[167, 333, 112, 74, 61, 68]</td>\n",
              "      <td>[25, 51, 68]</td>\n",
              "      <td>[233, 467, 77, 155, 59]</td>\n",
              "      <td>[72, 147, 197]</td>\n",
              "      <td>[666, 1333, 221, 444, 172]</td>\n",
              "      <td>[1667, 3333, 3888, 4444, 4815, 4505, 4567]</td>\n",
              "      <td>[4629]</td>\n",
              "      <td>[3333, 6666, 1111, 2222, 370, 741, 122, 246]</td>\n",
              "      <td>[16, 33, 38, 44]</td>\n",
              "      <td>[50, 100, 46, 48]</td>\n",
              "      <td>[133, 222, 147, 162, 167, 172]</td>\n",
              "      <td>[266, 177]</td>\n",
              "      <td>[56, 61]</td>\n",
              "      <td>[167, 333, 112, 74, 93, 68]</td>\n",
              "      <td>[77, 85]</td>\n",
              "      <td>[233, 467, 155, 103, 129, 94]</td>\n",
              "      <td>[72, 97]</td>\n",
              "      <td>[666, 1333, 221, 444, 147, 122]</td>\n",
              "      <td>[1667, 3333, 3888, 4444, 4629]</td>\n",
              "      <td>[4815, 4691, 4753]</td>\n",
              "      <td>[122]</td>\n",
              "      <td>[3333, 6666, 1111, 2222, 370, 741, 246]</td>\n",
              "      <td>...</td>\n",
              "      <td>[4629, 4815, 4505, 4567]</td>\n",
              "      <td>[3333, 6666, 1111, 2222, 370, 741, 122, 246]</td>\n",
              "      <td>[50, 66, 83, 88, 94, 96, 98]</td>\n",
              "      <td>[100]</td>\n",
              "      <td>[44, 89, 104, 119, 124]</td>\n",
              "      <td>[133, 266, 129]</td>\n",
              "      <td>[167, 333, 56, 112, 18, 37, 5, 12]</td>\n",
              "      <td>[467, 77, 155]</td>\n",
              "      <td>[233, 181, 207, 163, 172]</td>\n",
              "      <td>[666, 1333, 221, 444, 72, 147, 22, 47]</td>\n",
              "      <td>[1667, 3333, 3888, 4444, 4815, 4505, 4567]</td>\n",
              "      <td>[4629]</td>\n",
              "      <td>[122]</td>\n",
              "      <td>[3333, 6666, 1111, 2222, 370, 741, 246]</td>\n",
              "      <td>[50, 66, 83, 88, 94, 98]</td>\n",
              "      <td>[100, 96]</td>\n",
              "      <td>[133, 266, 310, 355, 370]</td>\n",
              "      <td>[385, 375, 380]</td>\n",
              "      <td>[37, 5, 12]</td>\n",
              "      <td>[167, 333, 56, 112, 18]</td>\n",
              "      <td>[233, 241, 250]</td>\n",
              "      <td>[467, 311, 389, 259, 285]</td>\n",
              "      <td>[22, 47]</td>\n",
              "      <td>[666, 1333, 221, 444, 72, 147]</td>\n",
              "      <td>[1667, 3333, 4444, 3517]</td>\n",
              "      <td>[3888, 3703, 3579, 3641]</td>\n",
              "      <td>[3333, 6666, 1111, 2222, 370, 741, 122, 246]</td>\n",
              "      <td>[50, 83, 54, 60, 62]</td>\n",
              "      <td>[100, 66, 64]</td>\n",
              "      <td>[133, 177, 222]</td>\n",
              "      <td>[266, 237, 252, 227, 232]</td>\n",
              "      <td>[112, 18, 37, 43, 50]</td>\n",
              "      <td>[167, 333, 56]</td>\n",
              "      <td>[77, 155, 181, 207, 215, 224]</td>\n",
              "      <td>[233, 467]</td>\n",
              "      <td>[72, 97]</td>\n",
              "      <td>[666, 1333, 221, 444, 147, 122]</td>\n",
              "      <td>[1667, 3333, 3888]</td>\n",
              "      <td>[4444, 4073, 4259, 3949, 4011]</td>\n",
              "      <td>[3333, 6666, 1111, 2222, 370, 741, 122, 246]</td>\n",
              "    </tr>\n",
              "  </tbody>\n",
              "</table>\n",
              "<p>1 rows × 780 columns</p>\n",
              "</div>"
            ],
            "text/plain": [
              "subject        1   ...                                            30\n",
              "h               1  ...                                             2\n",
              "Xg          150    ...                                         10000\n",
              "choice          g  ...                                             s\n",
              "Xs       [50, 50]  ...  [3333, 6666, 1111, 2222, 370, 741, 122, 246]\n",
              "\n",
              "[1 rows x 780 columns]"
            ]
          },
          "metadata": {
            "tags": []
          },
          "execution_count": 14
        }
      ]
    },
    {
      "cell_type": "code",
      "metadata": {
        "id": "8RNH8g4c9Evf",
        "colab_type": "code",
        "colab": {}
      },
      "source": [
        "''' rules according to the Note in the ex9 directions '''\n",
        "def find_balance(row, Xg):\n",
        "  if len(row.index) == 2:\n",
        "    return np.mean([np.min(row[\"s\"]), np.max(row[\"g\"])])\n",
        "  elif \"s\" in row.index:\n",
        "    return np.mean([0,np.min(row[\"s\"])])\n",
        "  else: # only gambling\n",
        "    return np.mean([Xg,np.max(row[\"g\"])])\n",
        "\n",
        "\n",
        "processing = pd.Series()\n",
        "for i in range (1,31):\n",
        "  for h in [1,2]:\n",
        "    for Xg in Xg_p_dict.keys():\n",
        "      balance = results[i,h,Xg].apply(lambda row: find_balance(row=row,Xg=Xg), axis=1)\n",
        "      processing.loc[\"_\".join([str(i),str(h),str(Xg)])] = balance\n",
        "\n",
        "processing = processing.apply(lambda x: x.values[0])\n",
        "obs = pd.DataFrame.from_records(processing.index.str.split(\"_\"), columns=[\"subject\",\"h\",\"Xg\"])\n",
        "obs = obs.astype(int)\n",
        "\n",
        "obs[\"p\"] = obs[\"Xg\"].apply(lambda Xg: Xg_p_dict[Xg])\n",
        "obs[\"Xs\"] = processing.values\n",
        "# depended and independed variables as we found in q. 2.3\n",
        "obs[\"x\"] = np.log(-np.log(obs[\"p\"]))\n",
        "obs[\"y\"] = np.log(-np.log(obs[\"Xs\"]/obs[\"Xg\"]))"
      ],
      "execution_count": 0,
      "outputs": []
    },
    {
      "cell_type": "code",
      "metadata": {
        "id": "ec1-QoszRPMD",
        "colab_type": "code",
        "colab": {}
      },
      "source": [
        "lm = obs.groupby([\"subject\",\"h\"])[\"x\",\"y\"].agg(lambda x: x.tolist())\n",
        "params = lm.apply(lambda row: np.polyfit(row[\"x\"], row[\"y\"], 1), axis=1)\n",
        "alpha = params.apply(lambda lst: lst[0]) # unpacking alpha\n",
        "sigma = params.apply(lambda lst: np.exp(-lst[1])) # unpacking sigma\n",
        "lm[\"alpha\"], lm[\"sigma\"] = alpha , sigma"
      ],
      "execution_count": 0,
      "outputs": []
    },
    {
      "cell_type": "code",
      "metadata": {
        "id": "YZ1TP5w1erBk",
        "colab_type": "code",
        "colab": {
          "base_uri": "https://localhost:8080/",
          "height": 1000
        },
        "outputId": "a0f81583-27bd-4822-fde5-5361ed71b3f8"
      },
      "source": [
        "lm[[\"alpha\", \"sigma\"]]"
      ],
      "execution_count": 17,
      "outputs": [
        {
          "output_type": "execute_result",
          "data": {
            "text/html": [
              "<div>\n",
              "<style scoped>\n",
              "    .dataframe tbody tr th:only-of-type {\n",
              "        vertical-align: middle;\n",
              "    }\n",
              "\n",
              "    .dataframe tbody tr th {\n",
              "        vertical-align: top;\n",
              "    }\n",
              "\n",
              "    .dataframe thead th {\n",
              "        text-align: right;\n",
              "    }\n",
              "</style>\n",
              "<table border=\"1\" class=\"dataframe\">\n",
              "  <thead>\n",
              "    <tr style=\"text-align: right;\">\n",
              "      <th></th>\n",
              "      <th></th>\n",
              "      <th>alpha</th>\n",
              "      <th>sigma</th>\n",
              "    </tr>\n",
              "    <tr>\n",
              "      <th>subject</th>\n",
              "      <th>h</th>\n",
              "      <th></th>\n",
              "      <th></th>\n",
              "    </tr>\n",
              "  </thead>\n",
              "  <tbody>\n",
              "    <tr>\n",
              "      <th rowspan=\"2\" valign=\"top\">1</th>\n",
              "      <th>1</th>\n",
              "      <td>0.378442</td>\n",
              "      <td>0.464979</td>\n",
              "    </tr>\n",
              "    <tr>\n",
              "      <th>2</th>\n",
              "      <td>0.610302</td>\n",
              "      <td>0.564987</td>\n",
              "    </tr>\n",
              "    <tr>\n",
              "      <th rowspan=\"2\" valign=\"top\">2</th>\n",
              "      <th>1</th>\n",
              "      <td>0.589914</td>\n",
              "      <td>0.578437</td>\n",
              "    </tr>\n",
              "    <tr>\n",
              "      <th>2</th>\n",
              "      <td>0.618548</td>\n",
              "      <td>0.597233</td>\n",
              "    </tr>\n",
              "    <tr>\n",
              "      <th rowspan=\"2\" valign=\"top\">3</th>\n",
              "      <th>1</th>\n",
              "      <td>0.682697</td>\n",
              "      <td>0.887746</td>\n",
              "    </tr>\n",
              "    <tr>\n",
              "      <th>2</th>\n",
              "      <td>0.645998</td>\n",
              "      <td>0.794806</td>\n",
              "    </tr>\n",
              "    <tr>\n",
              "      <th rowspan=\"2\" valign=\"top\">4</th>\n",
              "      <th>1</th>\n",
              "      <td>0.384650</td>\n",
              "      <td>0.838725</td>\n",
              "    </tr>\n",
              "    <tr>\n",
              "      <th>2</th>\n",
              "      <td>0.314972</td>\n",
              "      <td>0.898790</td>\n",
              "    </tr>\n",
              "    <tr>\n",
              "      <th rowspan=\"2\" valign=\"top\">5</th>\n",
              "      <th>1</th>\n",
              "      <td>0.620445</td>\n",
              "      <td>0.532713</td>\n",
              "    </tr>\n",
              "    <tr>\n",
              "      <th>2</th>\n",
              "      <td>0.522244</td>\n",
              "      <td>0.495497</td>\n",
              "    </tr>\n",
              "    <tr>\n",
              "      <th rowspan=\"2\" valign=\"top\">6</th>\n",
              "      <th>1</th>\n",
              "      <td>0.389769</td>\n",
              "      <td>0.918626</td>\n",
              "    </tr>\n",
              "    <tr>\n",
              "      <th>2</th>\n",
              "      <td>0.533485</td>\n",
              "      <td>0.690198</td>\n",
              "    </tr>\n",
              "    <tr>\n",
              "      <th rowspan=\"2\" valign=\"top\">7</th>\n",
              "      <th>1</th>\n",
              "      <td>0.456037</td>\n",
              "      <td>0.483448</td>\n",
              "    </tr>\n",
              "    <tr>\n",
              "      <th>2</th>\n",
              "      <td>0.457004</td>\n",
              "      <td>0.456831</td>\n",
              "    </tr>\n",
              "    <tr>\n",
              "      <th rowspan=\"2\" valign=\"top\">8</th>\n",
              "      <th>1</th>\n",
              "      <td>0.676004</td>\n",
              "      <td>0.800892</td>\n",
              "    </tr>\n",
              "    <tr>\n",
              "      <th>2</th>\n",
              "      <td>0.711994</td>\n",
              "      <td>0.733048</td>\n",
              "    </tr>\n",
              "    <tr>\n",
              "      <th rowspan=\"2\" valign=\"top\">9</th>\n",
              "      <th>1</th>\n",
              "      <td>0.769450</td>\n",
              "      <td>0.934794</td>\n",
              "    </tr>\n",
              "    <tr>\n",
              "      <th>2</th>\n",
              "      <td>0.611956</td>\n",
              "      <td>0.619133</td>\n",
              "    </tr>\n",
              "    <tr>\n",
              "      <th rowspan=\"2\" valign=\"top\">10</th>\n",
              "      <th>1</th>\n",
              "      <td>0.543197</td>\n",
              "      <td>0.491510</td>\n",
              "    </tr>\n",
              "    <tr>\n",
              "      <th>2</th>\n",
              "      <td>0.535405</td>\n",
              "      <td>0.541161</td>\n",
              "    </tr>\n",
              "    <tr>\n",
              "      <th rowspan=\"2\" valign=\"top\">11</th>\n",
              "      <th>1</th>\n",
              "      <td>0.411423</td>\n",
              "      <td>0.709683</td>\n",
              "    </tr>\n",
              "    <tr>\n",
              "      <th>2</th>\n",
              "      <td>0.432206</td>\n",
              "      <td>0.584678</td>\n",
              "    </tr>\n",
              "    <tr>\n",
              "      <th rowspan=\"2\" valign=\"top\">12</th>\n",
              "      <th>1</th>\n",
              "      <td>0.575588</td>\n",
              "      <td>0.872567</td>\n",
              "    </tr>\n",
              "    <tr>\n",
              "      <th>2</th>\n",
              "      <td>0.584147</td>\n",
              "      <td>0.839775</td>\n",
              "    </tr>\n",
              "    <tr>\n",
              "      <th rowspan=\"2\" valign=\"top\">13</th>\n",
              "      <th>1</th>\n",
              "      <td>1.033464</td>\n",
              "      <td>0.625075</td>\n",
              "    </tr>\n",
              "    <tr>\n",
              "      <th>2</th>\n",
              "      <td>0.766778</td>\n",
              "      <td>0.540716</td>\n",
              "    </tr>\n",
              "    <tr>\n",
              "      <th rowspan=\"2\" valign=\"top\">14</th>\n",
              "      <th>1</th>\n",
              "      <td>0.380338</td>\n",
              "      <td>0.679702</td>\n",
              "    </tr>\n",
              "    <tr>\n",
              "      <th>2</th>\n",
              "      <td>0.289411</td>\n",
              "      <td>0.619241</td>\n",
              "    </tr>\n",
              "    <tr>\n",
              "      <th rowspan=\"2\" valign=\"top\">15</th>\n",
              "      <th>1</th>\n",
              "      <td>0.293541</td>\n",
              "      <td>0.375520</td>\n",
              "    </tr>\n",
              "    <tr>\n",
              "      <th>2</th>\n",
              "      <td>0.444094</td>\n",
              "      <td>0.589892</td>\n",
              "    </tr>\n",
              "    <tr>\n",
              "      <th rowspan=\"2\" valign=\"top\">16</th>\n",
              "      <th>1</th>\n",
              "      <td>-0.072533</td>\n",
              "      <td>1.980592</td>\n",
              "    </tr>\n",
              "    <tr>\n",
              "      <th>2</th>\n",
              "      <td>-0.009272</td>\n",
              "      <td>2.644401</td>\n",
              "    </tr>\n",
              "    <tr>\n",
              "      <th rowspan=\"2\" valign=\"top\">17</th>\n",
              "      <th>1</th>\n",
              "      <td>0.407244</td>\n",
              "      <td>0.447173</td>\n",
              "    </tr>\n",
              "    <tr>\n",
              "      <th>2</th>\n",
              "      <td>0.596016</td>\n",
              "      <td>0.502608</td>\n",
              "    </tr>\n",
              "    <tr>\n",
              "      <th rowspan=\"2\" valign=\"top\">18</th>\n",
              "      <th>1</th>\n",
              "      <td>0.414652</td>\n",
              "      <td>0.734284</td>\n",
              "    </tr>\n",
              "    <tr>\n",
              "      <th>2</th>\n",
              "      <td>0.330619</td>\n",
              "      <td>0.783610</td>\n",
              "    </tr>\n",
              "    <tr>\n",
              "      <th rowspan=\"2\" valign=\"top\">19</th>\n",
              "      <th>1</th>\n",
              "      <td>1.042908</td>\n",
              "      <td>0.682559</td>\n",
              "    </tr>\n",
              "    <tr>\n",
              "      <th>2</th>\n",
              "      <td>1.119167</td>\n",
              "      <td>0.941372</td>\n",
              "    </tr>\n",
              "    <tr>\n",
              "      <th rowspan=\"2\" valign=\"top\">20</th>\n",
              "      <th>1</th>\n",
              "      <td>0.648744</td>\n",
              "      <td>0.632246</td>\n",
              "    </tr>\n",
              "    <tr>\n",
              "      <th>2</th>\n",
              "      <td>1.021031</td>\n",
              "      <td>0.699661</td>\n",
              "    </tr>\n",
              "    <tr>\n",
              "      <th rowspan=\"2\" valign=\"top\">21</th>\n",
              "      <th>1</th>\n",
              "      <td>0.617958</td>\n",
              "      <td>0.647357</td>\n",
              "    </tr>\n",
              "    <tr>\n",
              "      <th>2</th>\n",
              "      <td>0.535320</td>\n",
              "      <td>0.754299</td>\n",
              "    </tr>\n",
              "    <tr>\n",
              "      <th rowspan=\"2\" valign=\"top\">22</th>\n",
              "      <th>1</th>\n",
              "      <td>0.414125</td>\n",
              "      <td>0.735159</td>\n",
              "    </tr>\n",
              "    <tr>\n",
              "      <th>2</th>\n",
              "      <td>0.444371</td>\n",
              "      <td>0.733055</td>\n",
              "    </tr>\n",
              "    <tr>\n",
              "      <th rowspan=\"2\" valign=\"top\">23</th>\n",
              "      <th>1</th>\n",
              "      <td>0.425893</td>\n",
              "      <td>0.811819</td>\n",
              "    </tr>\n",
              "    <tr>\n",
              "      <th>2</th>\n",
              "      <td>0.436144</td>\n",
              "      <td>0.907007</td>\n",
              "    </tr>\n",
              "    <tr>\n",
              "      <th rowspan=\"2\" valign=\"top\">24</th>\n",
              "      <th>1</th>\n",
              "      <td>0.477762</td>\n",
              "      <td>0.360133</td>\n",
              "    </tr>\n",
              "    <tr>\n",
              "      <th>2</th>\n",
              "      <td>0.464239</td>\n",
              "      <td>0.387211</td>\n",
              "    </tr>\n",
              "    <tr>\n",
              "      <th rowspan=\"2\" valign=\"top\">25</th>\n",
              "      <th>1</th>\n",
              "      <td>1.045792</td>\n",
              "      <td>0.541137</td>\n",
              "    </tr>\n",
              "    <tr>\n",
              "      <th>2</th>\n",
              "      <td>1.163953</td>\n",
              "      <td>0.712723</td>\n",
              "    </tr>\n",
              "    <tr>\n",
              "      <th rowspan=\"2\" valign=\"top\">26</th>\n",
              "      <th>1</th>\n",
              "      <td>0.504150</td>\n",
              "      <td>0.864473</td>\n",
              "    </tr>\n",
              "    <tr>\n",
              "      <th>2</th>\n",
              "      <td>0.437273</td>\n",
              "      <td>0.891141</td>\n",
              "    </tr>\n",
              "    <tr>\n",
              "      <th rowspan=\"2\" valign=\"top\">27</th>\n",
              "      <th>1</th>\n",
              "      <td>0.599635</td>\n",
              "      <td>0.632968</td>\n",
              "    </tr>\n",
              "    <tr>\n",
              "      <th>2</th>\n",
              "      <td>0.507010</td>\n",
              "      <td>0.645594</td>\n",
              "    </tr>\n",
              "    <tr>\n",
              "      <th rowspan=\"2\" valign=\"top\">28</th>\n",
              "      <th>1</th>\n",
              "      <td>0.434432</td>\n",
              "      <td>0.395500</td>\n",
              "    </tr>\n",
              "    <tr>\n",
              "      <th>2</th>\n",
              "      <td>0.468394</td>\n",
              "      <td>0.423263</td>\n",
              "    </tr>\n",
              "    <tr>\n",
              "      <th rowspan=\"2\" valign=\"top\">29</th>\n",
              "      <th>1</th>\n",
              "      <td>0.598530</td>\n",
              "      <td>0.651507</td>\n",
              "    </tr>\n",
              "    <tr>\n",
              "      <th>2</th>\n",
              "      <td>0.680775</td>\n",
              "      <td>0.558440</td>\n",
              "    </tr>\n",
              "    <tr>\n",
              "      <th rowspan=\"2\" valign=\"top\">30</th>\n",
              "      <th>1</th>\n",
              "      <td>0.618067</td>\n",
              "      <td>0.764151</td>\n",
              "    </tr>\n",
              "    <tr>\n",
              "      <th>2</th>\n",
              "      <td>0.451280</td>\n",
              "      <td>0.632176</td>\n",
              "    </tr>\n",
              "  </tbody>\n",
              "</table>\n",
              "</div>"
            ],
            "text/plain": [
              "              alpha     sigma\n",
              "subject h                    \n",
              "1       1  0.378442  0.464979\n",
              "        2  0.610302  0.564987\n",
              "2       1  0.589914  0.578437\n",
              "        2  0.618548  0.597233\n",
              "3       1  0.682697  0.887746\n",
              "        2  0.645998  0.794806\n",
              "4       1  0.384650  0.838725\n",
              "        2  0.314972  0.898790\n",
              "5       1  0.620445  0.532713\n",
              "        2  0.522244  0.495497\n",
              "6       1  0.389769  0.918626\n",
              "        2  0.533485  0.690198\n",
              "7       1  0.456037  0.483448\n",
              "        2  0.457004  0.456831\n",
              "8       1  0.676004  0.800892\n",
              "        2  0.711994  0.733048\n",
              "9       1  0.769450  0.934794\n",
              "        2  0.611956  0.619133\n",
              "10      1  0.543197  0.491510\n",
              "        2  0.535405  0.541161\n",
              "11      1  0.411423  0.709683\n",
              "        2  0.432206  0.584678\n",
              "12      1  0.575588  0.872567\n",
              "        2  0.584147  0.839775\n",
              "13      1  1.033464  0.625075\n",
              "        2  0.766778  0.540716\n",
              "14      1  0.380338  0.679702\n",
              "        2  0.289411  0.619241\n",
              "15      1  0.293541  0.375520\n",
              "        2  0.444094  0.589892\n",
              "16      1 -0.072533  1.980592\n",
              "        2 -0.009272  2.644401\n",
              "17      1  0.407244  0.447173\n",
              "        2  0.596016  0.502608\n",
              "18      1  0.414652  0.734284\n",
              "        2  0.330619  0.783610\n",
              "19      1  1.042908  0.682559\n",
              "        2  1.119167  0.941372\n",
              "20      1  0.648744  0.632246\n",
              "        2  1.021031  0.699661\n",
              "21      1  0.617958  0.647357\n",
              "        2  0.535320  0.754299\n",
              "22      1  0.414125  0.735159\n",
              "        2  0.444371  0.733055\n",
              "23      1  0.425893  0.811819\n",
              "        2  0.436144  0.907007\n",
              "24      1  0.477762  0.360133\n",
              "        2  0.464239  0.387211\n",
              "25      1  1.045792  0.541137\n",
              "        2  1.163953  0.712723\n",
              "26      1  0.504150  0.864473\n",
              "        2  0.437273  0.891141\n",
              "27      1  0.599635  0.632968\n",
              "        2  0.507010  0.645594\n",
              "28      1  0.434432  0.395500\n",
              "        2  0.468394  0.423263\n",
              "29      1  0.598530  0.651507\n",
              "        2  0.680775  0.558440\n",
              "30      1  0.618067  0.764151\n",
              "        2  0.451280  0.632176"
            ]
          },
          "metadata": {
            "tags": []
          },
          "execution_count": 17
        }
      ]
    },
    {
      "cell_type": "code",
      "metadata": {
        "id": "Vzqe3_gTSI8m",
        "colab_type": "code",
        "colab": {
          "base_uri": "https://localhost:8080/",
          "height": 109
        },
        "outputId": "6e2372c2-6527-48b5-fe12-b5c02983cd50"
      },
      "source": [
        "# we've got few negative alpha's but we have to \n",
        "# remember we didn't constrain our regression to positivies\n",
        "# and it's possible that the OLS linear estimator will deviate a bit \n",
        "# from the real estimator, as far as this values are closed to zero\n",
        "lm[[\"alpha\", \"sigma\"]].agg([\"min\",\"max\"])"
      ],
      "execution_count": 18,
      "outputs": [
        {
          "output_type": "execute_result",
          "data": {
            "text/html": [
              "<div>\n",
              "<style scoped>\n",
              "    .dataframe tbody tr th:only-of-type {\n",
              "        vertical-align: middle;\n",
              "    }\n",
              "\n",
              "    .dataframe tbody tr th {\n",
              "        vertical-align: top;\n",
              "    }\n",
              "\n",
              "    .dataframe thead th {\n",
              "        text-align: right;\n",
              "    }\n",
              "</style>\n",
              "<table border=\"1\" class=\"dataframe\">\n",
              "  <thead>\n",
              "    <tr style=\"text-align: right;\">\n",
              "      <th></th>\n",
              "      <th>alpha</th>\n",
              "      <th>sigma</th>\n",
              "    </tr>\n",
              "  </thead>\n",
              "  <tbody>\n",
              "    <tr>\n",
              "      <th>min</th>\n",
              "      <td>-0.072533</td>\n",
              "      <td>0.360133</td>\n",
              "    </tr>\n",
              "    <tr>\n",
              "      <th>max</th>\n",
              "      <td>1.163953</td>\n",
              "      <td>2.644401</td>\n",
              "    </tr>\n",
              "  </tbody>\n",
              "</table>\n",
              "</div>"
            ],
            "text/plain": [
              "        alpha     sigma\n",
              "min -0.072533  0.360133\n",
              "max  1.163953  2.644401"
            ]
          },
          "metadata": {
            "tags": []
          },
          "execution_count": 18
        }
      ]
    },
    {
      "cell_type": "markdown",
      "metadata": {
        "id": "i_NoS351fQUQ",
        "colab_type": "text"
      },
      "source": [
        "####2.5"
      ]
    },
    {
      "cell_type": "code",
      "metadata": {
        "id": "F38hG2XCf7Bn",
        "colab_type": "code",
        "colab": {}
      },
      "source": [
        "to_plot = lm[[\"alpha\", \"sigma\"]].groupby(\"h\").agg(lambda x: x.tolist())"
      ],
      "execution_count": 0,
      "outputs": []
    },
    {
      "cell_type": "code",
      "metadata": {
        "id": "38yQYht6UWC8",
        "colab_type": "code",
        "colab": {
          "base_uri": "https://localhost:8080/",
          "height": 295
        },
        "outputId": "96077b08-d6f3-4eba-ead3-776347943ef8"
      },
      "source": [
        "plt.scatter(to_plot.loc[1,\"alpha\"], to_plot.loc[2,\"alpha\"])\n",
        "plt.title(\"Alpha Parameter of 2nd trial vs 1st trial acrros different subjects\")\n",
        "plt.xlabel(\"alpha 1st\")\n",
        "plt.ylabel(\"alpha 2nd\")\n",
        "plt.show()"
      ],
      "execution_count": 20,
      "outputs": [
        {
          "output_type": "display_data",
          "data": {
            "image/png": "[encoded data removed]",
            "text/plain": [
              "<Figure size 432x288 with 1 Axes>"
            ]
          },
          "metadata": {
            "tags": []
          }
        }
      ]
    },
    {
      "cell_type": "code",
      "metadata": {
        "id": "gGOQAHZ9v1No",
        "colab_type": "code",
        "colab": {
          "base_uri": "https://localhost:8080/",
          "height": 295
        },
        "outputId": "b9b293b0-edbc-42fd-94e9-1c4fafb44fb0"
      },
      "source": [
        "plt.scatter(to_plot.loc[1,\"sigma\"], to_plot.loc[2,\"sigma\"])\n",
        "plt.title(\"Sigma Parameter of 2nd trial vs 1st trial acrros different subjects\")\n",
        "plt.text(0.8,1.4, s=\"*there is an outlier (1.98, 2.64)\")\n",
        "plt.xlabel(\"sigma 1st\")\n",
        "plt.xlim(0,1.5)\n",
        "plt.ylim(0,1.5)\n",
        "plt.ylabel(\"sigma 2nd\")\n",
        "plt.show()"
      ],
      "execution_count": 21,
      "outputs": [
        {
          "output_type": "display_data",
          "data": {
            "image/png": "[encoded data removed]",
            "text/plain": [
              "<Figure size 432x288 with 1 Axes>"
            ]
          },
          "metadata": {
            "tags": []
          }
        }
      ]
    },
    {
      "cell_type": "markdown",
      "metadata": {
        "id": "xqMY19jq0Zrh",
        "colab_type": "text"
      },
      "source": [
        "Broadly speaking, it seems each subject preserves his estimated parameters alpha and sigma in the two trials. It's interesting to see that for most of the subjects sigma is bewteen 0 to 1, which implies that they are \"risk-averted\". In addition, the fact that for most of the subjects alpha is bewteen 0 to 1 is corresponded to the \"Prospect-Theory\" of kahneman and Tversky."
      ]
    },
    {
      "cell_type": "markdown",
      "metadata": {
        "id": "be3t9BCCwR7l",
        "colab_type": "text"
      },
      "source": [
        "Average alpha and sigma across all subjects and values of h:"
      ]
    },
    {
      "cell_type": "code",
      "metadata": {
        "id": "C4qh5FQNwKgx",
        "colab_type": "code",
        "colab": {
          "base_uri": "https://localhost:8080/",
          "height": 70
        },
        "outputId": "6ba82a69-d3b0-4f13-97a1-d4bd3fbd555d"
      },
      "source": [
        "lm.mean()"
      ],
      "execution_count": 22,
      "outputs": [
        {
          "output_type": "execute_result",
          "data": {
            "text/plain": [
              "alpha    0.551453\n",
              "sigma    0.714300\n",
              "dtype: float64"
            ]
          },
          "metadata": {
            "tags": []
          },
          "execution_count": 22
        }
      ]
    }
  ]
}