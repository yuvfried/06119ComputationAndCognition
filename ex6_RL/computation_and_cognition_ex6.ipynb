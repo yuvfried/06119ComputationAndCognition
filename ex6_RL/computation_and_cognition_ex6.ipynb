{
 "cells": [
  {
   "cell_type": "code",
   "execution_count": 57,
   "metadata": {
    "colab": {
     "base_uri": "https://localhost:8080/",
     "height": 55
    },
    "colab_type": "code",
    "id": "27fcwdFfKX-_",
    "outputId": "e15894e7-be01-433a-fea2-ac770b7d3b5e"
   },
   "outputs": [
    {
     "name": "stdout",
     "output_type": "stream",
     "text": [
      "Drive already mounted at /content/drive; to attempt to forcibly remount, call drive.mount(\"/content/drive\", force_remount=True).\n"
     ]
    }
   ],
   "source": [
    "from google.colab import drive\n",
    "drive.mount('/content/drive')"
   ]
  },
  {
   "cell_type": "code",
   "execution_count": 0,
   "metadata": {
    "colab": {},
    "colab_type": "code",
    "id": "JqOU-knxJ5Io"
   },
   "outputs": [],
   "source": [
    "import pandas as pd\n",
    "import numpy as np\n",
    "import matplotlib.pyplot as plt\n",
    "from scipy.io import loadmat"
   ]
  },
  {
   "cell_type": "markdown",
   "metadata": {
    "colab_type": "text",
    "id": "wphl3QFYO2Pv"
   },
   "source": [
    "###Q1"
   ]
  },
  {
   "cell_type": "code",
   "execution_count": 0,
   "metadata": {
    "colab": {},
    "colab_type": "code",
    "id": "BhUrXz1VKHeB"
   },
   "outputs": [],
   "source": [
    "# Python Dict, \"data\", \"test_data\", \"labels\" and \"test_labels\" are keys\n",
    "matlab_file = loadmat(\"/content/drive/My Drive/C&C/ex6/ex6_data.mat\")\n",
    "\n",
    "# Define train and test examples and labels\n",
    "X_train, X_test, y_train, y_test = matlab_file['data'], matlab_file['test_data'],\\\n",
    "matlab_file['labels'].reshape(-1), matlab_file['test_labels'].reshape(-1)"
   ]
  },
  {
   "cell_type": "code",
   "execution_count": 60,
   "metadata": {
    "colab": {
     "base_uri": "https://localhost:8080/",
     "height": 88
    },
    "colab_type": "code",
    "id": "mGHsvAfMLbLd",
    "outputId": "620329c8-0dc2-4714-b605-0bfc9f10df58"
   },
   "outputs": [
    {
     "name": "stdout",
     "output_type": "stream",
     "text": [
      "(784, 12665)\n",
      "(784, 2115)\n",
      "(12665,)\n",
      "(2115,)\n"
     ]
    }
   ],
   "source": [
    "print(X_train.shape)\n",
    "print(X_test.shape)\n",
    "print(y_train.shape)\n",
    "print(y_test.shape)"
   ]
  },
  {
   "cell_type": "markdown",
   "metadata": {
    "colab_type": "text",
    "id": "rGlnmPWqdFPb"
   },
   "source": [
    "###Q3\n",
    "Done before Q2 as we want to break by this functions the learning of Q2."
   ]
  },
  {
   "cell_type": "code",
   "execution_count": 0,
   "metadata": {
    "colab": {},
    "colab_type": "code",
    "id": "bSCzpLodZ98o"
   },
   "outputs": [],
   "source": [
    "''' Fucntion for sampling output from vector of probabilities to be equal 1\n",
    "  p1: vector of p1's according to test examples\n",
    "  '''\n",
    "def sample_output(p1):\n",
    "  generator = np.vectorize(lambda p: np.random.choice([0,1],p=[1-p,p]))\n",
    "  return generator(p1)\n",
    "\n",
    "\n",
    "''' Function for testing the accuracy of a weights vector on test examples\n",
    "  w: current weights vector\n",
    "  X: test examples\n",
    "  labels: labels of test examples\n",
    "  '''\n",
    "def test_accuracy(w,X,labels):\n",
    "  wTx = np.apply_along_axis(lambda example: np.dot(example,w), axis=0,arr=X)  # vec of dim(examples)\n",
    "  p1 = 1/(1+np.exp(-wTx))\n",
    "  y = sample_output(p1=p1)\n",
    "  return np.sum(y == labels) / X.shape[1]"
   ]
  },
  {
   "cell_type": "markdown",
   "metadata": {
    "colab_type": "text",
    "id": "9VO3nGHyO6tD"
   },
   "source": [
    "###Q2"
   ]
  },
  {
   "cell_type": "code",
   "execution_count": 0,
   "metadata": {
    "colab": {},
    "colab_type": "code",
    "id": "sx9LjIkBO6H9"
   },
   "outputs": [],
   "source": [
    "ETA = 0.01\n",
    "w = np.random.normal(0,0.01, size=X_train.shape[0])  # initialization\n",
    "\n",
    "breaks = np.append(np.arange(start=49, stop=X_train.shape[1], step=50),[X_train.shape[1]-1])\n",
    "experiment = pd.Series(index=breaks)\n",
    "for j in range(X_train.shape[1]):\n",
    "  x = X_train[:,j]\n",
    "  p1 = 1/(1+np.exp(-np.dot(w,x)))  # p(y=1)\n",
    "  p0 = 1-p1  # p(y=0)\n",
    "  y = np.random.choice([0,1],p=[p0,p1])\n",
    "  r = (y == y_train[j]).astype(int)  # reward of y\n",
    "  e_w = (y-p1)*x  # eligibility w.r.t the vec w\n",
    "  w += ETA*r*e_w\n",
    "  if j in breaks:\n",
    "    experiment[j] = test_accuracy(w=w,X=X_test,labels=y_test)"
   ]
  },
  {
   "cell_type": "markdown",
   "metadata": {
    "colab_type": "text",
    "id": "eL5yXHkHnJ4Q"
   },
   "source": [
    "###Q4"
   ]
  },
  {
   "cell_type": "code",
   "execution_count": 63,
   "metadata": {
    "colab": {
     "base_uri": "https://localhost:8080/",
     "height": 295
    },
    "colab_type": "code",
    "id": "CprzAZQofw8M",
    "outputId": "e1a1aba4-3e97-421c-ae32-e259d54beda5"
   },
   "outputs": [
    {
     "data": {
      "image/png": "[encoded data removed]",
      "text/plain": [
       "<Figure size 432x288 with 1 Axes>"
      ]
     },
     "metadata": {
      "tags": []
     },
     "output_type": "display_data"
    }
   ],
   "source": [
    "experiment.plot()\n",
    "plt.title(\"RL NN Accuracy according to its Training Trails\")\n",
    "plt.xlabel(\"number of examples presented to net\")\n",
    "plt.ylabel(\"accuracy\")\n",
    "plt.show()"
   ]
  },
  {
   "cell_type": "markdown",
   "metadata": {
    "colab_type": "text",
    "id": "3itt0WLHtn7_"
   },
   "source": [
    "We can be impressed that after an approximately 700 examples the net achieved good results above the test examples."
   ]
  },
  {
   "cell_type": "markdown",
   "metadata": {
    "colab_type": "text",
    "id": "_1GQ1pH6owzo"
   },
   "source": [
    "###Q5"
   ]
  },
  {
   "cell_type": "code",
   "execution_count": 64,
   "metadata": {
    "colab": {
     "base_uri": "https://localhost:8080/",
     "height": 296
    },
    "colab_type": "code",
    "id": "DsrqZcNzd5Lq",
    "outputId": "2a6d3c5a-cc53-4853-f509-96a76ac08bd3"
   },
   "outputs": [
    {
     "data": {
      "image/png": "[encoded data removed]",
      "text/plain": [
       "<Figure size 432x288 with 2 Axes>"
      ]
     },
     "metadata": {
      "tags": []
     },
     "output_type": "display_data"
    }
   ],
   "source": [
    "plt.imshow(w.reshape(28,28))\n",
    "plt.colorbar(pad=0.2).ax.set_title(\"color-value map\")\n",
    "plt.title(\"Weights Vector Reshaped to\\na 28X28 Matrix after Learning\")\n",
    "plt.show()"
   ]
  },
  {
   "cell_type": "markdown",
   "metadata": {
    "colab_type": "text",
    "id": "7ffYqgePu_Fa"
   },
   "source": [
    "It seems that the colors around the digit 1 are contrary to the colors in the area of the digit 0. This picture is a consequence of the way 0\\1 digits of the net's learning and the way MNIST data encodes the images. The MNIST encodes the black part of its images as low values (close to 0) and its white part (the places where the digits are written in the image) as high values (close to 1). The learning produces a single weights vector which has to classify every image which will presented to it, so the learning assigns certain weights to the area that approximately corresponding to the ones area in the input vectors, and a cotrary weights to the area that approximately corresponding to the zeros area in the input vectors. As a result, we get the above picture."
   ]
  }
 ],
 "metadata": {
  "colab": {
   "collapsed_sections": [],
   "name": "computation_and_cognition_ex6.ipynb",
   "provenance": [],
   "toc_visible": true
  },
  "kernelspec": {
   "display_name": "Python 3",
   "language": "python",
   "name": "python3"
  },
  "language_info": {
   "codemirror_mode": {
    "name": "ipython",
    "version": 3
   },
   "file_extension": ".py",
   "mimetype": "text/x-python",
   "name": "python",
   "nbconvert_exporter": "python",
   "pygments_lexer": "ipython3",
   "version": "3.7.3"
  }
 },
 "nbformat": 4,
 "nbformat_minor": 1
}
