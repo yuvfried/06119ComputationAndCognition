{
  "nbformat": 4,
  "nbformat_minor": 0,
  "metadata": {
    "colab": {
      "name": "ex1_computation_and_cognition.ipynb",
      "provenance": [],
      "collapsed_sections": [],
      "toc_visible": true
    },
    "kernelspec": {
      "name": "python3",
      "display_name": "Python 3"
    }
  },
  "cells": [
    {
      "cell_type": "code",
      "metadata": {
        "id": "eJdCVnoufun1",
        "colab_type": "code",
        "colab": {}
      },
      "source": [
        "import numpy as np\n",
        "import pandas as pd\n",
        "import copy\n",
        "import matplotlib.pyplot as plt"
      ],
      "execution_count": 0,
      "outputs": []
    },
    {
      "cell_type": "markdown",
      "metadata": {
        "id": "6x-rj92hgCub",
        "colab_type": "text"
      },
      "source": [
        "####Q1"
      ]
    },
    {
      "cell_type": "code",
      "metadata": {
        "id": "NYLE2KGif9R6",
        "colab_type": "code",
        "colab": {}
      },
      "source": [
        "def memory_patterns(n,p):\n",
        "  patterns = np.random.choice([-1,1], (n,p))\n",
        "  connections = np.zeros((n,n))\n",
        "  for i in range(n):\n",
        "    for j in range(i+1, n):\n",
        "        connections[i,j] = np.dot(patterns[i,:], patterns[j,:])/n # loop of mu\n",
        "        connections[j,i] = connections[i,j] # synapse matrix is symmetric \n",
        "\n",
        "  np.fill_diagonal(connections,0)\n",
        "  return patterns, connections"
      ],
      "execution_count": 0,
      "outputs": []
    },
    {
      "cell_type": "markdown",
      "metadata": {
        "id": "ahgmknyDnDA2",
        "colab_type": "text"
      },
      "source": [
        "####Q2"
      ]
    },
    {
      "cell_type": "code",
      "metadata": {
        "id": "RNDTeI6coQXn",
        "colab_type": "code",
        "colab": {}
      },
      "source": [
        "# connections: j matrix, S: the network init vector which in {-1,+1}^n\n",
        "def a_synchronic(connections, s, print_updates=False):\n",
        "  j=0\n",
        "  while True:\n",
        "    j+=1\n",
        "    s_t = copy.deepcopy(s)\n",
        "    for i in range(connections.shape[0]):\n",
        "      if s[i]*np.sign(np.dot(connections[i,:], s)) < 0: # update according to the rule; sign(0)=1\n",
        "        s[i] *= -1\n",
        "    if print_updates:\n",
        "      print(np.sum(s != s_t),\"neurons updated on trail\",j)\n",
        "    if np.all(s == s_t):\n",
        "      return s"
      ],
      "execution_count": 0,
      "outputs": []
    },
    {
      "cell_type": "markdown",
      "metadata": {
        "id": "PUybVyBWnTo4",
        "colab_type": "text"
      },
      "source": [
        "####Q3"
      ]
    },
    {
      "cell_type": "code",
      "metadata": {
        "id": "EhsFHCLdnUdb",
        "colab_type": "code",
        "colab": {}
      },
      "source": [
        "def stability(connections, s, z):\n",
        "  n = connections.shape[0]\n",
        "  noisier = np.random.choice([-1,1],n,p=[z,1-z])\n",
        "  s_noisy = s*noisier # change sign of s[i] w.p of z\n",
        "  s_convergance = a_synchronic(connections=connections,s=s_noisy)\n",
        "  return (n - np.sum(s_convergance == s))/n"
      ],
      "execution_count": 0,
      "outputs": []
    },
    {
      "cell_type": "markdown",
      "metadata": {
        "id": "7h7uWfRqyl2m",
        "colab_type": "text"
      },
      "source": [
        "####Q4"
      ]
    },
    {
      "cell_type": "code",
      "metadata": {
        "id": "Nu3xYUJtZ0Vb",
        "colab_type": "code",
        "colab": {}
      },
      "source": [
        "def simmulation(n,p,z):\n",
        "  # pandas apply function convert ints to floats so we have to convert it back\n",
        "  n = n.astype(np.int)\n",
        "  p = p.astype(np.int)\n",
        "  patt, conn = memory_patterns(n,p)\n",
        "  return stability(conn,patt[:,0],z) # initialize with the first memory pattern\n",
        "\n",
        "alpha = np.repeat(np.arange(0.02,0.302,step=0.02),5)\n",
        "n = np.repeat(1000,len(alpha))\n",
        "z = 0.1\n",
        "p = np.ceil(n*alpha).astype(np.int)\n",
        "df_exp = pd.DataFrame({\"N\":n, \"P\":p, \"alpha\":alpha})"
      ],
      "execution_count": 0,
      "outputs": []
    },
    {
      "cell_type": "code",
      "metadata": {
        "id": "pl7D4NGRvkJs",
        "colab_type": "code",
        "outputId": "db2a45db-06df-430b-a755-768e1469986c",
        "colab": {
          "base_uri": "https://localhost:8080/",
          "height": 200
        }
      },
      "source": [
        "df_exp.head()"
      ],
      "execution_count": 6,
      "outputs": [
        {
          "output_type": "execute_result",
          "data": {
            "text/html": [
              "<div>\n",
              "<style scoped>\n",
              "    .dataframe tbody tr th:only-of-type {\n",
              "        vertical-align: middle;\n",
              "    }\n",
              "\n",
              "    .dataframe tbody tr th {\n",
              "        vertical-align: top;\n",
              "    }\n",
              "\n",
              "    .dataframe thead th {\n",
              "        text-align: right;\n",
              "    }\n",
              "</style>\n",
              "<table border=\"1\" class=\"dataframe\">\n",
              "  <thead>\n",
              "    <tr style=\"text-align: right;\">\n",
              "      <th></th>\n",
              "      <th>N</th>\n",
              "      <th>P</th>\n",
              "      <th>alpha</th>\n",
              "    </tr>\n",
              "  </thead>\n",
              "  <tbody>\n",
              "    <tr>\n",
              "      <th>0</th>\n",
              "      <td>1000</td>\n",
              "      <td>20</td>\n",
              "      <td>0.02</td>\n",
              "    </tr>\n",
              "    <tr>\n",
              "      <th>1</th>\n",
              "      <td>1000</td>\n",
              "      <td>20</td>\n",
              "      <td>0.02</td>\n",
              "    </tr>\n",
              "    <tr>\n",
              "      <th>2</th>\n",
              "      <td>1000</td>\n",
              "      <td>20</td>\n",
              "      <td>0.02</td>\n",
              "    </tr>\n",
              "    <tr>\n",
              "      <th>3</th>\n",
              "      <td>1000</td>\n",
              "      <td>20</td>\n",
              "      <td>0.02</td>\n",
              "    </tr>\n",
              "    <tr>\n",
              "      <th>4</th>\n",
              "      <td>1000</td>\n",
              "      <td>20</td>\n",
              "      <td>0.02</td>\n",
              "    </tr>\n",
              "  </tbody>\n",
              "</table>\n",
              "</div>"
            ],
            "text/plain": [
              "      N   P  alpha\n",
              "0  1000  20   0.02\n",
              "1  1000  20   0.02\n",
              "2  1000  20   0.02\n",
              "3  1000  20   0.02\n",
              "4  1000  20   0.02"
            ]
          },
          "metadata": {
            "tags": []
          },
          "execution_count": 6
        }
      ]
    },
    {
      "cell_type": "code",
      "metadata": {
        "id": "IG-WXTkq5Cs6",
        "colab_type": "code",
        "colab": {}
      },
      "source": [
        "# cell running is approx 105 sec.\n",
        "df_exp[\"false_memory\"] = df_exp.apply(lambda row: simmulation(n=row[\"N\"], p=row[\"P\"], z=z), axis=1)"
      ],
      "execution_count": 0,
      "outputs": []
    },
    {
      "cell_type": "code",
      "metadata": {
        "id": "dRkL-mqEzfZO",
        "colab_type": "code",
        "colab": {}
      },
      "source": [
        "df_mean_results = df_exp.groupby(by=\"alpha\").mean()"
      ],
      "execution_count": 0,
      "outputs": []
    },
    {
      "cell_type": "markdown",
      "metadata": {
        "id": "iEp_cOmj0Jfj",
        "colab_type": "text"
      },
      "source": [
        "####Q5"
      ]
    },
    {
      "cell_type": "markdown",
      "metadata": {
        "id": "yBEoJx56U5vF",
        "colab_type": "text"
      },
      "source": [
        "A glimpse of the area of the critical alpha value in the data frame results"
      ]
    },
    {
      "cell_type": "code",
      "metadata": {
        "id": "Sw5XUvX71f4c",
        "colab_type": "code",
        "outputId": "5ebb1e60-9187-4893-933e-b92c0cc8eada",
        "colab": {
          "base_uri": "https://localhost:8080/",
          "height": 291
        }
      },
      "source": [
        "df_mean_results.loc[0.1:0.23]"
      ],
      "execution_count": 9,
      "outputs": [
        {
          "output_type": "execute_result",
          "data": {
            "text/html": [
              "<div>\n",
              "<style scoped>\n",
              "    .dataframe tbody tr th:only-of-type {\n",
              "        vertical-align: middle;\n",
              "    }\n",
              "\n",
              "    .dataframe tbody tr th {\n",
              "        vertical-align: top;\n",
              "    }\n",
              "\n",
              "    .dataframe thead th {\n",
              "        text-align: right;\n",
              "    }\n",
              "</style>\n",
              "<table border=\"1\" class=\"dataframe\">\n",
              "  <thead>\n",
              "    <tr style=\"text-align: right;\">\n",
              "      <th></th>\n",
              "      <th>N</th>\n",
              "      <th>P</th>\n",
              "      <th>false_memory</th>\n",
              "    </tr>\n",
              "    <tr>\n",
              "      <th>alpha</th>\n",
              "      <th></th>\n",
              "      <th></th>\n",
              "      <th></th>\n",
              "    </tr>\n",
              "  </thead>\n",
              "  <tbody>\n",
              "    <tr>\n",
              "      <th>0.10</th>\n",
              "      <td>1000</td>\n",
              "      <td>100</td>\n",
              "      <td>0.0040</td>\n",
              "    </tr>\n",
              "    <tr>\n",
              "      <th>0.12</th>\n",
              "      <td>1000</td>\n",
              "      <td>121</td>\n",
              "      <td>0.0040</td>\n",
              "    </tr>\n",
              "    <tr>\n",
              "      <th>0.14</th>\n",
              "      <td>1000</td>\n",
              "      <td>140</td>\n",
              "      <td>0.0080</td>\n",
              "    </tr>\n",
              "    <tr>\n",
              "      <th>0.16</th>\n",
              "      <td>1000</td>\n",
              "      <td>160</td>\n",
              "      <td>0.0772</td>\n",
              "    </tr>\n",
              "    <tr>\n",
              "      <th>0.18</th>\n",
              "      <td>1000</td>\n",
              "      <td>180</td>\n",
              "      <td>0.2420</td>\n",
              "    </tr>\n",
              "    <tr>\n",
              "      <th>0.20</th>\n",
              "      <td>1000</td>\n",
              "      <td>200</td>\n",
              "      <td>0.3406</td>\n",
              "    </tr>\n",
              "    <tr>\n",
              "      <th>0.22</th>\n",
              "      <td>1000</td>\n",
              "      <td>220</td>\n",
              "      <td>0.3222</td>\n",
              "    </tr>\n",
              "  </tbody>\n",
              "</table>\n",
              "</div>"
            ],
            "text/plain": [
              "          N    P  false_memory\n",
              "alpha                         \n",
              "0.10   1000  100        0.0040\n",
              "0.12   1000  121        0.0040\n",
              "0.14   1000  140        0.0080\n",
              "0.16   1000  160        0.0772\n",
              "0.18   1000  180        0.2420\n",
              "0.20   1000  200        0.3406\n",
              "0.22   1000  220        0.3222"
            ]
          },
          "metadata": {
            "tags": []
          },
          "execution_count": 9
        }
      ]
    },
    {
      "cell_type": "code",
      "metadata": {
        "id": "9cSD-hQj0KiW",
        "colab_type": "code",
        "outputId": "66e15b54-0cb1-4f12-deab-3b838da70a1f",
        "colab": {
          "base_uri": "https://localhost:8080/",
          "height": 295
        }
      },
      "source": [
        "plt.plot(df_mean_results.index, df_mean_results[\"false_memory\"])\n",
        "plt.title(\"False Memory according to Alpha\")\n",
        "plt.xlabel(\"alpha\")\n",
        "plt.ylabel(\"percentage\")\n",
        "plt.show()"
      ],
      "execution_count": 10,
      "outputs": [
        {
          "output_type": "display_data",
          "data": {
            "image/png": "[encoded data removed]",
            "text/plain": [
              "<Figure size 432x288 with 1 Axes>"
            ]
          },
          "metadata": {
            "tags": []
          }
        }
      ]
    },
    {
      "cell_type": "markdown",
      "metadata": {
        "id": "mZQvKwE53nbD",
        "colab_type": "text"
      },
      "source": [
        "This graph explains the principle of network capacity showed in class. \\\n",
        "For alpha's below approx. 0.14 the network is stable and the error rate is low. From that value of alpha the error increasing exponentialy, and for larger alpha's the error rate converges to relatively high error rate. \\\n",
        "Namely, For large alpha's the network is more likely to produce false memories. This is a consequence of the principle showed in class, which says the more natural real memories the network has(dimension of P), it is more likely to converge to false memories."
      ]
    }
  ]
}