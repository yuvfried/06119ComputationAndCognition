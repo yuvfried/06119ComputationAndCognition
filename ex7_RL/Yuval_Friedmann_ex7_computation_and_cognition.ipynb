{
  "nbformat": 4,
  "nbformat_minor": 0,
  "metadata": {
    "colab": {
      "name": "computation_and_cognition_ex7.ipynb",
      "provenance": [],
      "collapsed_sections": [],
      "toc_visible": true
    },
    "kernelspec": {
      "name": "python3",
      "display_name": "Python 3"
    }
  },
  "cells": [
    {
      "cell_type": "code",
      "metadata": {
        "id": "7BoO4pD_Kaf4",
        "colab_type": "code",
        "colab": {}
      },
      "source": [
        "import pandas as pd\n",
        "import numpy as np\n",
        "import matplotlib.pyplot as plt"
      ],
      "execution_count": 0,
      "outputs": []
    },
    {
      "cell_type": "code",
      "metadata": {
        "id": "xy01rvGh5RWT",
        "colab_type": "code",
        "colab": {}
      },
      "source": [
        "PI_STAR = \"\\u03C0\"+\"*\"\n",
        "HAT = \"\\u0302\""
      ],
      "execution_count": 0,
      "outputs": []
    },
    {
      "cell_type": "markdown",
      "metadata": {
        "id": "eMzuF3JcVfe-",
        "colab_type": "text"
      },
      "source": [
        "###Part1"
      ]
    },
    {
      "cell_type": "markdown",
      "metadata": {
        "id": "kh6WiVCvVg8l",
        "colab_type": "text"
      },
      "source": [
        "####Q4\n"
      ]
    },
    {
      "cell_type": "code",
      "metadata": {
        "id": "YZaLo-ZeVi6T",
        "colab_type": "code",
        "colab": {}
      },
      "source": [
        "''' One Iteration of Value-Iteration Algorithm\n",
        "  params\n",
        "  ------\n",
        "  v_mapping (Pandas DataFrame):\n",
        "    df of states as idx and (at least) one column of \"v_t\".\n",
        "    it assigns current values to each state.\n",
        "\n",
        "  s (str):\n",
        "    the current state whose value we want to calculate.\n",
        "  \n",
        "  a (str):\n",
        "    one action from the actions set represent the candidate to bring\n",
        "    the optimal value from the current state.\n",
        "\n",
        "  reward_function (function): \n",
        "    gets a tuple (s=state, a=action) and returns a real number (reward).\n",
        "  \n",
        "  actions_matrices_dict (Dict): \n",
        "    dict with actions as keys and their mappings as pd.DataFrame s.t \n",
        "    index and cols are the MDS states, and entries are the probablity\n",
        "    to transmit from the state in the col (s) to the state in the row (s_tag).\n",
        "'''\n",
        "\n",
        "def update_value(v_mapping, s, a, reward_function , actions_matrices_dict, gamma=0.5):\n",
        "  states = v_mapping.index\n",
        "  left_side = reward_function(s,a)\n",
        "  right_side = 0\n",
        "  for s_tag in states:\n",
        "    right_side += actions_matrices_dict[a].loc[s_tag, s]*v_mapping.loc[s_tag,\"v_t\"]\n",
        "  return left_side + right_side\n",
        "\n",
        "\n",
        "''' Estimate an Optimal Policy to a Given MDS Problem\n",
        "  params\n",
        "  ------\n",
        "  actions_matrices_dict (Dict):\n",
        "    dict with actions as keys and their mappings as pd.DataFrame s.t \n",
        "    index and cols are the MDS states, and entries are the probablity \n",
        "    to transmit from the state in the col (s) to the state in the row (s_tag).\n",
        "  \n",
        "  reward_function (function):\n",
        "    function which maps from a tuple (s=state, a=action) to a real number reward.\n",
        "  \n",
        "  init_v_mapping (Pandas DataFrame):\n",
        "    df of states as idx and (at least) one column of \"v_t\". \n",
        "    it assigns an initial value in time t for each state s.\n",
        "'''\n",
        "\n",
        "def value_iteration(actions_matrices_dict, reward_function, init_v_mapping, gamma=0.5, epsilon=np.exp(-10), T_max=5000):\n",
        "  \n",
        "  actions = list(actions_matrices_dict.keys())\n",
        "  v_mapping = init_v_mapping.copy()\n",
        "  # while loop's indicators\n",
        "  prev_opt_value = v_mapping[\"v_t\"]\n",
        "  opt_value = np.repeat(np.inf,init_v_mapping.shape[0])\n",
        "  t=0\n",
        "\n",
        "  while ((opt_value - prev_opt_value) > epsilon).any() and (t<T_max):\n",
        "    # apply the updating rule of Value Iteration\n",
        "    # vectorization to get rid of loop over states\n",
        "    for a in actions:\n",
        "      v_mapping[a] = v_mapping.apply(lambda row: \\\n",
        "          update_value(v_mapping, row.name, a, reward_function , actions_matrices_dict, gamma), axis=1)\n",
        "    \n",
        "    # update df and while loop's indicators with results\n",
        "    opt_value = v_mapping[actions].max(axis=1)\n",
        "    v_mapping[\"policy\"] = v_mapping[actions].idxmax(axis=1)\n",
        "    prev_opt_value = v_mapping[\"v_t\"]\n",
        "    v_mapping[\"v_t\"] = opt_value\n",
        "    t+=1\n",
        "\n",
        "  return v_mapping"
      ],
      "execution_count": 0,
      "outputs": []
    },
    {
      "cell_type": "markdown",
      "metadata": {
        "id": "6c-CrgdwCpyc",
        "colab_type": "text"
      },
      "source": [
        "Setting our \"Home-Out\" MDS problem"
      ]
    },
    {
      "cell_type": "code",
      "metadata": {
        "id": "Yd-tFhXLAUs9",
        "colab_type": "code",
        "colab": {}
      },
      "source": [
        "init_v_mapping = pd.DataFrame(0, index=list(\"HO\"), columns=[\"v_t\"])\n",
        "\n",
        "def reward_home_out(s,a):\n",
        "  if s==\"H\":\n",
        "    if a==\"STAY\":\n",
        "      return 0\n",
        "    elif a== \"SWITCH\":\n",
        "      # s_next = np.random.choice([\"H\",\"O\"], p=[0.2,0.8])\n",
        "      return 1\n",
        "    else:\n",
        "      print(a+\" is not an action in this MDS\")\n",
        "      return False\n",
        "  elif s==\"O\":\n",
        "    if a==\"STAY\":\n",
        "      return 2\n",
        "    elif a== \"SWITCH\":\n",
        "      return 0\n",
        "    else:\n",
        "      print(a+\" is not an action in this MDS\")\n",
        "      return False\n",
        "  else:\n",
        "    print(s+\" is not a state in this MDS\")\n",
        "    return False\n",
        "\n",
        "actions_matrices_home_out={\n",
        "\"STAY\" : pd.DataFrame(np.array([[1,0],[0,1]]), index=list(\"HO\"), columns=list(\"HO\")),\n",
        "\"SWITCH\" : pd.DataFrame(np.array([[0.2,1],[0.8,0]]), index=list(\"HO\"), columns=list(\"HO\"))\n",
        "}"
      ],
      "execution_count": 0,
      "outputs": []
    },
    {
      "cell_type": "markdown",
      "metadata": {
        "id": "q904zmGl_4YZ",
        "colab_type": "text"
      },
      "source": [
        "The optimal value and policy found by the Value-Iteration algorithm are:"
      ]
    },
    {
      "cell_type": "code",
      "metadata": {
        "id": "SKq-EEASo7qJ",
        "colab_type": "code",
        "outputId": "a723f85a-9b78-4ac5-c7f8-858715ab6f51",
        "colab": {
          "base_uri": "https://localhost:8080/",
          "height": 109
        }
      },
      "source": [
        "result = value_iteration(actions_matrices_dict=actions_matrices_home_out,reward_function=reward_home_out, init_v_mapping=init_v_mapping)\n",
        "result[[\"v_t\",\"policy\"]].rename(columns={\"v_t\":\"v*\", \"policy\":PI_STAR})"
      ],
      "execution_count": 46,
      "outputs": [
        {
          "output_type": "execute_result",
          "data": {
            "text/html": [
              "<div>\n",
              "<style scoped>\n",
              "    .dataframe tbody tr th:only-of-type {\n",
              "        vertical-align: middle;\n",
              "    }\n",
              "\n",
              "    .dataframe tbody tr th {\n",
              "        vertical-align: top;\n",
              "    }\n",
              "\n",
              "    .dataframe thead th {\n",
              "        text-align: right;\n",
              "    }\n",
              "</style>\n",
              "<table border=\"1\" class=\"dataframe\">\n",
              "  <thead>\n",
              "    <tr style=\"text-align: right;\">\n",
              "      <th></th>\n",
              "      <th>v*</th>\n",
              "      <th>π*</th>\n",
              "    </tr>\n",
              "  </thead>\n",
              "  <tbody>\n",
              "    <tr>\n",
              "      <th>H</th>\n",
              "      <td>2.8</td>\n",
              "      <td>SWITCH</td>\n",
              "    </tr>\n",
              "    <tr>\n",
              "      <th>O</th>\n",
              "      <td>4.0</td>\n",
              "      <td>STAY</td>\n",
              "    </tr>\n",
              "  </tbody>\n",
              "</table>\n",
              "</div>"
            ],
            "text/plain": [
              "    v*      π*\n",
              "H  2.8  SWITCH\n",
              "O  4.0    STAY"
            ]
          },
          "metadata": {
            "tags": []
          },
          "execution_count": 46
        }
      ]
    },
    {
      "cell_type": "markdown",
      "metadata": {
        "id": "TYnzulVd-qrn",
        "colab_type": "text"
      },
      "source": [
        "The optimal policy is the same as we found in Question 2. Yet, the optimal value isn't what we found in the analytic part, but it depends on the arbitrary initial value we assigned to the states in the algorithm."
      ]
    },
    {
      "cell_type": "markdown",
      "metadata": {
        "id": "eqR1CGXZLrcw",
        "colab_type": "text"
      },
      "source": [
        "###Part2"
      ]
    },
    {
      "cell_type": "markdown",
      "metadata": {
        "id": "kFtpbQSMPznO",
        "colab_type": "text"
      },
      "source": [
        "####Q1"
      ]
    },
    {
      "cell_type": "markdown",
      "metadata": {
        "id": "9QTuxISKTDZT",
        "colab_type": "text"
      },
      "source": [
        "We can use the \"Home-Out\" setting from the previous part when we build this function"
      ]
    },
    {
      "cell_type": "code",
      "metadata": {
        "id": "izt4fDwwQ9kB",
        "colab_type": "code",
        "colab": {}
      },
      "source": [
        "def get_next_s(s,a, reward_function, actions_matrices_dict):\n",
        "  s_next = np.random.choice(actions_matrices_dict[a][s].index, p=actions_matrices_dict[a][s].values)\n",
        "  r = reward_function(s,a)\n",
        "  return s_next, r"
      ],
      "execution_count": 0,
      "outputs": []
    },
    {
      "cell_type": "markdown",
      "metadata": {
        "id": "oWkMSKBTP2gD",
        "colab_type": "text"
      },
      "source": [
        "####Q2"
      ]
    },
    {
      "cell_type": "code",
      "metadata": {
        "id": "fzzILMFRP3N8",
        "colab_type": "code",
        "colab": {}
      },
      "source": [
        "ETA = 0.01\n",
        "GAMMA = 0.5\n",
        "T = 3000\n",
        "s = \"H\" # initialization\n",
        "v_map = init_v_mapping.rename(columns={\"v_t\":0}) # initialization\n",
        "actions = [\"STAY\",\"SWITCH\"]\n",
        "\n",
        "for t in range(1,T+1):\n",
        "  v_map[t] = np.nan\n",
        "  act = np.random.choice(actions, p=[0.5,0.5]) # not depended by the states\n",
        "  s_tag, r = get_next_s(s,act, reward_home_out, actions_matrices_home_out)\n",
        "  \n",
        "  # update by TD-error (asynchronic)\n",
        "  v_map.loc[s,t] = v_map.loc[s,t-1] + ETA*\\\n",
        "  (reward_home_out(s,act) + GAMMA*v_map.loc[s_tag,t-1] - v_map.loc[s,t-1])\n",
        "  \n",
        "  # fill the other s accordingly\n",
        "  if s_tag != s:\n",
        "    v_map.loc[s_tag,t] = v_map.loc[s_tag,t-1]\n",
        "    s = s_tag\n",
        "  else:\n",
        "    other_s = v_map.index.difference(pd.Index([s]))[0]\n",
        "    v_map.loc[other_s,t] = v_map.loc[other_s,t-1]"
      ],
      "execution_count": 0,
      "outputs": []
    },
    {
      "cell_type": "code",
      "metadata": {
        "id": "8f8D8KSyd9sy",
        "colab_type": "code",
        "outputId": "146f4efe-a55f-47cf-9b7a-d4ed16323c0c",
        "colab": {
          "base_uri": "https://localhost:8080/",
          "height": 411
        }
      },
      "source": [
        "v_map.transpose()"
      ],
      "execution_count": 0,
      "outputs": [
        {
          "output_type": "execute_result",
          "data": {
            "text/html": [
              "<div>\n",
              "<style scoped>\n",
              "    .dataframe tbody tr th:only-of-type {\n",
              "        vertical-align: middle;\n",
              "    }\n",
              "\n",
              "    .dataframe tbody tr th {\n",
              "        vertical-align: top;\n",
              "    }\n",
              "\n",
              "    .dataframe thead th {\n",
              "        text-align: right;\n",
              "    }\n",
              "</style>\n",
              "<table border=\"1\" class=\"dataframe\">\n",
              "  <thead>\n",
              "    <tr style=\"text-align: right;\">\n",
              "      <th></th>\n",
              "      <th>H</th>\n",
              "      <th>O</th>\n",
              "    </tr>\n",
              "  </thead>\n",
              "  <tbody>\n",
              "    <tr>\n",
              "      <th>0</th>\n",
              "      <td>0.000000</td>\n",
              "      <td>0.000000</td>\n",
              "    </tr>\n",
              "    <tr>\n",
              "      <th>1</th>\n",
              "      <td>0.010000</td>\n",
              "      <td>0.000000</td>\n",
              "    </tr>\n",
              "    <tr>\n",
              "      <th>2</th>\n",
              "      <td>0.010000</td>\n",
              "      <td>0.020000</td>\n",
              "    </tr>\n",
              "    <tr>\n",
              "      <th>3</th>\n",
              "      <td>0.010000</td>\n",
              "      <td>0.019850</td>\n",
              "    </tr>\n",
              "    <tr>\n",
              "      <th>4</th>\n",
              "      <td>0.019999</td>\n",
              "      <td>0.019850</td>\n",
              "    </tr>\n",
              "    <tr>\n",
              "      <th>...</th>\n",
              "      <td>...</td>\n",
              "      <td>...</td>\n",
              "    </tr>\n",
              "    <tr>\n",
              "      <th>2996</th>\n",
              "      <td>1.224793</td>\n",
              "      <td>1.733822</td>\n",
              "    </tr>\n",
              "    <tr>\n",
              "      <th>2997</th>\n",
              "      <td>1.218669</td>\n",
              "      <td>1.733822</td>\n",
              "    </tr>\n",
              "    <tr>\n",
              "      <th>2998</th>\n",
              "      <td>1.225151</td>\n",
              "      <td>1.733822</td>\n",
              "    </tr>\n",
              "    <tr>\n",
              "      <th>2999</th>\n",
              "      <td>1.225151</td>\n",
              "      <td>1.745152</td>\n",
              "    </tr>\n",
              "    <tr>\n",
              "      <th>3000</th>\n",
              "      <td>1.225151</td>\n",
              "      <td>1.733827</td>\n",
              "    </tr>\n",
              "  </tbody>\n",
              "</table>\n",
              "<p>3001 rows × 2 columns</p>\n",
              "</div>"
            ],
            "text/plain": [
              "             H         O\n",
              "0     0.000000  0.000000\n",
              "1     0.010000  0.000000\n",
              "2     0.010000  0.020000\n",
              "3     0.010000  0.019850\n",
              "4     0.019999  0.019850\n",
              "...        ...       ...\n",
              "2996  1.224793  1.733822\n",
              "2997  1.218669  1.733822\n",
              "2998  1.225151  1.733822\n",
              "2999  1.225151  1.745152\n",
              "3000  1.225151  1.733827\n",
              "\n",
              "[3001 rows x 2 columns]"
            ]
          },
          "metadata": {
            "tags": []
          },
          "execution_count": 29
        }
      ]
    },
    {
      "cell_type": "code",
      "metadata": {
        "id": "Ttbe5_LFbg_e",
        "colab_type": "code",
        "outputId": "0ae44950-69e2-4564-8e42-a9d8e2451ed0",
        "colab": {
          "base_uri": "https://localhost:8080/",
          "height": 350
        }
      },
      "source": [
        "v_map.transpose().rename(columns={\"H\":'v*(H) TD',\"O\":'v*(O) TD'}).plot(figsize=(10,5))\n",
        "plt.title(\"V(s) of \"+PI_STAR+\" according to the Iterations of TD-Learning\")\n",
        "plt.xlabel(\"t\")\n",
        "plt.ylabel(\"V(t)\")\n",
        "plt.plot(np.arange(3000), np.repeat(1.21,3000), linestyle=\"--\", label='v*(H)', c=\"b\")\n",
        "plt.plot(np.arange(3000), np.repeat(1.736,3000), linestyle=\"--\", label='v*(O)', c=\"orange\")\n",
        "plt.legend()\n",
        "plt.show()"
      ],
      "execution_count": 0,
      "outputs": [
        {
          "output_type": "display_data",
          "data": {
            "image/png": "[encoded data removed]",
            "text/plain": [
              "<Figure size 720x360 with 1 Axes>"
            ]
          },
          "metadata": {
            "tags": []
          }
        }
      ]
    },
    {
      "cell_type": "markdown",
      "metadata": {
        "id": "nbuvmBgV5_zh",
        "colab_type": "text"
      },
      "source": [
        "The learning converges to the true optimal values. We can be impressed by the convergence from approximately t=800.\\\n",
        "Increasing the learning rate (ETA) causes the algo to converge faster, but also to an higher variability around the truth value after convergence. On the other hand, lower ETA's cause the algo to converge slower but decrease the variablity around the truth value after convergence has achieved."
      ]
    },
    {
      "cell_type": "markdown",
      "metadata": {
        "id": "7mRLiZQu8XXr",
        "colab_type": "text"
      },
      "source": [
        "####Q3"
      ]
    },
    {
      "cell_type": "code",
      "metadata": {
        "id": "986hcxw78bHE",
        "colab_type": "code",
        "colab": {}
      },
      "source": [
        "ETA = 0.1\n",
        "T = 3000\n",
        "GAMMA = 0.5\n",
        "states = [\"H\",\"O\"]\n",
        "actions = [\"STAY\",\"SWITCH\"]\n",
        "Q = pd.DataFrame(0,index=[\"H_STAY\",\"H_SWITCH\",\"O_STAY\",\"O_SWITCH\"], columns=[0]) # initialization\n",
        "V_s = pd.DataFrame(np.nan, index=np.arange(1,T+1), columns=states).rename_axis(index=\"t\") # initialization\n",
        "\n",
        "for t in range(1,T+1):\n",
        "  # act = np.random.choice(actions, p=[0.5,0.5]) # not depended by the states\n",
        "  # H\n",
        "  Q[t] = np.nan\n",
        "  # update every Q(s,a)\n",
        "  for s in states:\n",
        "    for a in actions:\n",
        "      s_tag, r = get_next_s(s,a, reward_home_out, actions_matrices_home_out)\n",
        "      delta = r + GAMMA*Q.loc[Q.index.str.startswith(s_tag),t-1].max() - Q.loc[s+\"_\"+a,t-1]\n",
        "      # updating rule\n",
        "      Q.loc[s+\"_\"+a,t] = Q.loc[s+\"_\"+a,t-1] + ETA*delta\n",
        "    # apply max over optional actions\n",
        "    V_s.loc[t,s] = Q.loc[Q.index.str.startswith(s),t].max()"
      ],
      "execution_count": 0,
      "outputs": []
    },
    {
      "cell_type": "code",
      "metadata": {
        "id": "waUu-rDoEVBD",
        "colab_type": "code",
        "colab": {
          "base_uri": "https://localhost:8080/",
          "height": 441
        },
        "outputId": "6d4dbfdd-9d40-4b2b-bbab-0f408e98fc8f"
      },
      "source": [
        "V_s"
      ],
      "execution_count": 40,
      "outputs": [
        {
          "output_type": "execute_result",
          "data": {
            "text/html": [
              "<div>\n",
              "<style scoped>\n",
              "    .dataframe tbody tr th:only-of-type {\n",
              "        vertical-align: middle;\n",
              "    }\n",
              "\n",
              "    .dataframe tbody tr th {\n",
              "        vertical-align: top;\n",
              "    }\n",
              "\n",
              "    .dataframe thead th {\n",
              "        text-align: right;\n",
              "    }\n",
              "</style>\n",
              "<table border=\"1\" class=\"dataframe\">\n",
              "  <thead>\n",
              "    <tr style=\"text-align: right;\">\n",
              "      <th></th>\n",
              "      <th>H</th>\n",
              "      <th>O</th>\n",
              "    </tr>\n",
              "    <tr>\n",
              "      <th>t</th>\n",
              "      <th></th>\n",
              "      <th></th>\n",
              "    </tr>\n",
              "  </thead>\n",
              "  <tbody>\n",
              "    <tr>\n",
              "      <th>1</th>\n",
              "      <td>0.100000</td>\n",
              "      <td>0.200000</td>\n",
              "    </tr>\n",
              "    <tr>\n",
              "      <th>2</th>\n",
              "      <td>0.195000</td>\n",
              "      <td>0.390000</td>\n",
              "    </tr>\n",
              "    <tr>\n",
              "      <th>3</th>\n",
              "      <td>0.295000</td>\n",
              "      <td>0.570500</td>\n",
              "    </tr>\n",
              "    <tr>\n",
              "      <th>4</th>\n",
              "      <td>0.394025</td>\n",
              "      <td>0.741975</td>\n",
              "    </tr>\n",
              "    <tr>\n",
              "      <th>5</th>\n",
              "      <td>0.491721</td>\n",
              "      <td>0.904876</td>\n",
              "    </tr>\n",
              "    <tr>\n",
              "      <th>...</th>\n",
              "      <td>...</td>\n",
              "      <td>...</td>\n",
              "    </tr>\n",
              "    <tr>\n",
              "      <th>2996</th>\n",
              "      <td>2.810949</td>\n",
              "      <td>4.000000</td>\n",
              "    </tr>\n",
              "    <tr>\n",
              "      <th>2997</th>\n",
              "      <td>2.829854</td>\n",
              "      <td>4.000000</td>\n",
              "    </tr>\n",
              "    <tr>\n",
              "      <th>2998</th>\n",
              "      <td>2.846869</td>\n",
              "      <td>4.000000</td>\n",
              "    </tr>\n",
              "    <tr>\n",
              "      <th>2999</th>\n",
              "      <td>2.862182</td>\n",
              "      <td>4.000000</td>\n",
              "    </tr>\n",
              "    <tr>\n",
              "      <th>3000</th>\n",
              "      <td>2.875964</td>\n",
              "      <td>4.000000</td>\n",
              "    </tr>\n",
              "  </tbody>\n",
              "</table>\n",
              "<p>3000 rows × 2 columns</p>\n",
              "</div>"
            ],
            "text/plain": [
              "             H         O\n",
              "t                       \n",
              "1     0.100000  0.200000\n",
              "2     0.195000  0.390000\n",
              "3     0.295000  0.570500\n",
              "4     0.394025  0.741975\n",
              "5     0.491721  0.904876\n",
              "...        ...       ...\n",
              "2996  2.810949  4.000000\n",
              "2997  2.829854  4.000000\n",
              "2998  2.846869  4.000000\n",
              "2999  2.862182  4.000000\n",
              "3000  2.875964  4.000000\n",
              "\n",
              "[3000 rows x 2 columns]"
            ]
          },
          "metadata": {
            "tags": []
          },
          "execution_count": 40
        }
      ]
    },
    {
      "cell_type": "code",
      "metadata": {
        "id": "Xp5jSmmkcTTb",
        "colab_type": "code",
        "outputId": "157f9df9-fc5a-4381-eb99-821d4c2d2cd3",
        "colab": {
          "base_uri": "https://localhost:8080/",
          "height": 350
        }
      },
      "source": [
        "V_s.rename(columns={\"H\":'v*(H) Q-learning',\"O\":'v*(O) Q-learning'}).plot(figsize=(10,5))\n",
        "plt.title(\"V\"+HAT+\"*(s) according to the Iterations of Q-Learning\")\n",
        "plt.xlabel(\"t\")\n",
        "plt.ylabel(\"V(t)\")\n",
        "plt.plot(np.arange(3000), np.repeat(result.loc[\"H\",\"v_t\"],3000), linestyle=\"--\", label='v*(H) Value Iteration', c=\"b\")\n",
        "plt.plot(np.arange(3000), np.repeat(result.loc[\"O\",\"v_t\"],3000), linestyle=\"--\", label='v*(O) Value Iteration', c=\"orange\")\n",
        "plt.legend()\n",
        "plt.show()"
      ],
      "execution_count": 49,
      "outputs": [
        {
          "output_type": "display_data",
          "data": {
            "image/png": "[encoded data removed]",
            "text/plain": [
              "<Figure size 720x360 with 1 Axes>"
            ]
          },
          "metadata": {
            "tags": []
          }
        }
      ]
    },
    {
      "cell_type": "markdown",
      "metadata": {
        "id": "CwUDgpfeLM8k",
        "colab_type": "text"
      },
      "source": [
        "The values converged to their optimal values as they have been computed in Part a Question 4. By the optimal values we can infer the optimal policy easly using the Bellman Optimality Equation, as all of the other parameters are known and we just have to maximize over the set of actions.\\\n",
        "Note that the variability after convergence of V(O) is 0 yet v(h) do have few variability. The reason may be the differneces between the transition probabilities of the two states: given a specific action the transition from state 'Out' is determined, while there is some randomness in the transition from state 'Home' given the action 'Switch'."
      ]
    }
  ]
}